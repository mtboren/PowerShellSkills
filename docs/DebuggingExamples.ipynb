{
 "cells": [
  {
   "cell_type": "markdown",
   "metadata": {},
   "source": [
    "# PowerShell Debugging Examples\n",
    "Like with any proper debugger, via the PowerShell debugger, we can step into statements, over them, out of them, can inspect variables, test logic, do whatever we must to solve the issue, all with the active running code in \"suspended\" mode, advancing it how and when we want.  For info about leveraging the debugger, use `?` or `h` within the debugger, or view the PowerShell help for [about_Debugger](https://docs.microsoft.com/en-us/powershell/module/microsoft.powershell.core/about/about_debugger)\n",
    "\n",
    "The examples here are meant to be walked through by the user in their own PowerShell session.  The examples:\n",
    "\n",
    "|  Item  | Description |\n",
    "|:--------|:-------------|\n",
    "[Unexpected Logic Result](#Unexpected-Logic-Result) | In this example, there is the need to determine why some logic set is returning `$false` instead of the expected `$true`\n",
    "[Null value vs Empty String](#Null-value-vs-Empty-String) | Trying to test for properties with seemingly no value, but getting unexpected results"
   ]
  },
  {
   "cell_type": "markdown",
   "metadata": {},
   "source": [
    "## Unexpected Logic Result\n",
    "In this sample, there is the need to determine why some logic set is returning `$false` instead of the expected `$true`. We can use the PowerShell debugger for some debugging"
   ]
  },
  {
   "cell_type": "code",
   "execution_count": 18,
   "metadata": {},
   "outputs": [
    {
     "name": "stdout",
     "output_type": "stream",
     "text": [
      "\n",
      "DisplayName SamAccountName PhoneNbr\n",
      "----------- -------------- --------\n",
      "Billy Boy   bboy0001       800-123-4567\n",
      "Suzy Queue  squeue0009     800-234-5678\n",
      "Ricky Rocky rrocky0045     \n",
      "\n"
     ]
    }
   ],
   "source": [
    "## some user data to use later (JSON file is in this directory)\n",
    "$arrUsersInfo = Get-Content sampleUserInfo.json | ConvertFrom-Json\n",
    "## see what's inc that data\n",
    "$arrUsersInfo"
   ]
  },
  {
   "cell_type": "markdown",
   "metadata": {},
   "source": [
    "Our code is intended to iterate over the user objects, and for any object that has a phone number value, it would take action (for demonstration purposes here, we are just using `Write-Verbose` to write out a verbose message to the PowerShell console)"
   ]
  },
  {
   "cell_type": "code",
   "execution_count": 25,
   "metadata": {},
   "outputs": [
    {
     "name": "stdout",
     "output_type": "stream",
     "text": [
      "\u001b[93mVERBOSE: Working on user 'Billy Boy'\u001b[0m\n",
      "\u001b[93mVERBOSE: Phone number for this cat not in expected format -- taking no action\u001b[0m\n",
      "\u001b[93mVERBOSE: Working on user 'Suzy Queue'\u001b[0m\n",
      "\u001b[93mVERBOSE: Phone number for this cat not in expected format -- taking no action\u001b[0m\n",
      "\u001b[93mVERBOSE: Working on user 'Ricky Rocky'\u001b[0m\n",
      "\u001b[93mVERBOSE: Phone number for this cat not in expected format -- taking no action\u001b[0m\n"
     ]
    }
   ],
   "source": [
    "## iterate over users, taking certain actions when particular things are present (in real life, we'd do something more than Write-Verbose, of course)\n",
    "$arrUsersInfo | Foreach-Object {\n",
    "    $oThisUser = $_\n",
    "    Write-Verbose -Verbose \"Working on user '$($oThisUser.DisplayName)'\"\n",
    "    Write-Verbose -Verbose $(if ($oThisUser.PhoneNmbr -match \"\\d{3}-\\d{3}-\\d{4}\") {\"Updating phone number in directory!\"} else {\"Phone number for this cat not in expected format -- taking no action\"})\n",
    "}"
   ]
  },
  {
   "cell_type": "markdown",
   "metadata": {},
   "source": [
    "Hmm -- we would have expected the first two users to have some action taken, since they have a seemingly valid phone number in the data, and only the last user to have the \"taking no action\" scenario, as that is the user with no phone number.  What's the deal?\n",
    "\n",
    "We can step through the logic and inspect things in real time by employing the PowerShell debugger.  Generally we would do so by a \"breakpoint\" on a script or command. We'll do it here by setting a breakpoint for when a particular variable gets read."
   ]
  },
  {
   "cell_type": "code",
   "execution_count": null,
   "metadata": {},
   "outputs": [],
   "source": [
    "## set a breakpoint for when the given variable gets read\n",
    "Set-PSBreakpoint -Variable arrUsersInfo -Mode Read\n",
    "## then, let's issue the same script\n",
    "## iterate over users, taking certain actions when particular things are present (in real life, we'd do something more than Write-Verbose, of course)\n",
    "$arrUsersInfo | Foreach-Object {\n",
    "    $oThisUser = $_\n",
    "    Write-Verbose -Verbose \"Working on user '$($oThisUser.DisplayName)'\"\n",
    "    Write-Verbose -Verbose $(if ($oThisUser.PhoneNmbr -match \"\\d{3}-\\d{3}-\\d{4}\") {\"Updating phone number in directory!\"} else {\"Phone number for this cat not in expected format -- taking no action\"})\n",
    "}"
   ]
  },
  {
   "cell_type": "markdown",
   "metadata": {},
   "source": [
    "At this point, we will enter the PowerShell debugger, and can follow the code as desired to figure out what the world is causing this unexpected behavior"
   ]
  },
  {
   "cell_type": "markdown",
   "metadata": {},
   "source": [
    "## Null value vs Empty String\n",
    "In this sample, we should figure out how we can determine if a given property's value is essentially empty (when we are not yet sure if it is actually `$null`, or just an empty string, or maybe whitespace characters only)"
   ]
  },
  {
   "cell_type": "code",
   "execution_count": 26,
   "metadata": {},
   "outputs": [
    {
     "name": "stdout",
     "output_type": "stream",
     "text": [
      "\n",
      "DisplayName SamAccountName PhoneNbr\n",
      "----------- -------------- --------\n",
      "Billy Boy   bboy0001       800-123-4567\n",
      "Suzy Queue  squeue0009     800-234-5678\n",
      "Ricky Rocky rrocky0045     \n",
      "\n"
     ]
    }
   ],
   "source": [
    "## again, some user data to use later (JSON file is in this directory)\n",
    "$arrUsersInfo = Get-Content sampleUserInfo.json | ConvertFrom-Json\n",
    "## see what's inc that data\n",
    "$arrUsersInfo"
   ]
  },
  {
   "cell_type": "markdown",
   "metadata": {},
   "source": [
    "Now let's see our code that is trying to take action if the user info object has a phone number:"
   ]
  },
  {
   "cell_type": "code",
   "execution_count": 27,
   "metadata": {},
   "outputs": [
    {
     "name": "stdout",
     "output_type": "stream",
     "text": [
      "\u001b[93mVERBOSE: Working on user 'Billy Boy'\u001b[0m\n",
      "\u001b[93mVERBOSE: Updating phone number in directory!\u001b[0m\n",
      "\u001b[93mVERBOSE: Working on user 'Suzy Queue'\u001b[0m\n",
      "\u001b[93mVERBOSE: Updating phone number in directory!\u001b[0m\n",
      "\u001b[93mVERBOSE: Working on user 'Ricky Rocky'\u001b[0m\n",
      "\u001b[93mVERBOSE: Updating phone number in directory!\u001b[0m\n"
     ]
    }
   ],
   "source": [
    "## take action if the phone number is present (not $null)\n",
    "$arrUsersInfo | Foreach-Object {\n",
    "    $oThisUser = $_\n",
    "    Write-Verbose -Verbose \"Working on user '$($oThisUser.DisplayName)'\"\n",
    "    Write-Verbose -Verbose $(if ($null -ne $oThisUser.PhoneNbr) {\"Updating phone number in directory!\"} else {\"Phone number for this cat not in expected format -- taking no action\"})\n",
    "}"
   ]
  },
  {
   "cell_type": "markdown",
   "metadata": {},
   "source": [
    "What the -- we would have expected _only_ the first two users to have some action taken, but that the last user to have the \"taking no action\" scenario, as that is the user with no phone number.  What's the deal?\n",
    "\n",
    "Once again, we can step through the logic and inspect things in real time via the PowerShell debugger. Again we'll do so by a \"breakpoint\" for when a particular variable gets read."
   ]
  },
  {
   "cell_type": "code",
   "execution_count": null,
   "metadata": {},
   "outputs": [],
   "source": [
    "## set a breakpoint for when the given variable gets read\n",
    "Set-PSBreakpoint -Variable arrUsersInfo -Mode Read\n",
    "\n",
    "## take action if the phone number is present (not $null)\n",
    "$arrUsersInfo | Foreach-Object {\n",
    "    $oThisUser = $_\n",
    "    Write-Verbose -Verbose \"Working on user '$($oThisUser.DisplayName)'\"\n",
    "    Write-Verbose -Verbose $(if ($null -ne $oThisUser.PhoneNbr) {\"Updating phone number in directory!\"} else {\"Phone number for this cat not in expected format -- taking no action\"})\n",
    "}"
   ]
  },
  {
   "cell_type": "markdown",
   "metadata": {},
   "source": [
    "Once again, we will enter the PowerShell debugger, and can follow the code as desired to figure out what the world is causing this unexpected behavior. Hint: empty string is different than `$null`!"
   ]
  }
 ],
 "metadata": {
  "kernelspec": {
   "display_name": ".NET (PowerShell)",
   "language": "PowerShell",
   "name": ".net-powershell"
  },
  "language_info": {
   "file_extension": ".ps1",
   "mimetype": "text/x-powershell",
   "name": "PowerShell",
   "pygments_lexer": "powershell",
   "version": "7.0"
  }
 },
 "nbformat": 4,
 "nbformat_minor": 4
}
