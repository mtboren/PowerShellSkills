{
 "cells": [
  {
   "cell_type": "markdown",
   "metadata": {},
   "source": [
    "# Getting Started with JupyterLab and .NET Interactive / PowerShell Notebooks\n",
    "Some steps to quickly get going with JupyterLab and making PowerShell notebooks for your MarkDown and code together\n",
    "\n",
    "Contents:\n",
    "- [Overview](#Overview)\n",
    "- [Install/Setup](#Install/Setup)\n",
    "    - [Gist](#Gist)\n",
    "    - [Quick Install](#Quick-Install)\n",
    "    - [Example code cells](#Example-code-cells)\n",
    "- [Other Thoughts](#Other-Thoughts)\n",
    "    - [Jupyter notebooks live on the web!](#Jupyter-notebooks-live-on-the-web!)\n",
    "\n",
    "## Overview\n",
    "JupyterLab, from the source:\n",
    "> \"JupyterLab is a web-based interactive development environment for Jupyter notebooks, code, and data\" -- https://jupyter.org/\n",
    "\n",
    "And, Jupyter notebooks:\n",
    "\n",
    "> \"The Jupyter Notebook is an open-source web application that allows you to create and share documents that contain live code, equations, visualizations and narrative text\" -- https://jupyter.org/\n",
    "\n",
    "The notebooks can, among other things, show your MarkDown and code in the same doc, run the code live, and store the output as desired in the notebook document itself. Handy for sharing such things. And, places like GitHub will automatically render the notebook and output, so people can instantly see what you meant, without having to have run any code themselves (good for documentation, learning/sharing).  This document, for example, is a Jupyter notebook!\n",
    "\n",
    "So, to use such things, you can install the requisite software items (see [Installs](#Installs) below), and then launch your own JupyterLab environment in which to develop. Or, when you're wanting to run you notebooks live on the web, see [Jupyter notebooks live on the web](#Jupyter-notebooks-live-on-the-web) below!\n",
    "\n",
    "## Install/Setup\n",
    "### Gist\n",
    "- install Python, .NET Interactive SDK\n",
    "- install `pip` if not already present (the package installer for Python)\n",
    "- install the `jupyterlab` Python module\n",
    "- use `dotnet.exe` to install .NET Interactive Jupyter kernels (the things that enable PowerShell Jupyter notebooks)\n",
    "- launch JupyterLab\n",
    "\n",
    "### Quick Install\n",
    "That this is about creating [.NET Interactive](https://github.com/dotnet/interactive#net-interactive-) / PowerShell notebooks, this install section will have Windows-like things in it, but you can use these things anywhere that the .NET Interactive runs. And, for the Python module installs, this is just using default locations. You likely will use a Python `virtualenv` into which to install modules on a shared system, but this is the _quick_ install, so we will leave the `virtualenv` exercise up to you.\n",
    "- Install a modern Python version from https://www.python.org/downloads/, and the current [Microsoft .NET SDK](https://dotnet.microsoft.com/download/dotnet) (.NET 5 at the time of this writing, and _yes_, the SDK, not just the runtime)\n",
    "- If not already installed, install `pip` by downloading the `get-pip.py` script and running it, as described in pip's [Installation doc](https://pip.pypa.io/en/stable/installing/) (example in PowerShell, here):\n",
    "```PowerShell\n",
    "## Is pip already available? If so, no need to install it here, just go on to the next step of installing JupyterLab\n",
    "Get-Command pip\n",
    "## download the install script\n",
    "Invoke-WebRequest -Uri https://bootstrap.pypa.io/get-pip.py -OutFile c:\\temp\\get-pip.py\n",
    "## run the install script\n",
    "python c:\\temp\\get-pip.py\n",
    "```\n",
    "- Install `jupyterlab` Python module for the current user using `pip` (expects that your `path` is correctly updated to include the folder in which `pip` resides)\n",
    "```PowerShell\n",
    "## if you are using a virtualenv, you'd create/active it here first, _then_ do the `jupyterlab` install\n",
    "## and, note: install could take a bit\n",
    "pip install jupyterlab --user\n",
    "```\n",
    "- install .NET Interactive Jupyter kernels (also described in less PowerShell-y ways at [Using .NET notebooks on your machine](https://github.com/dotnet/interactive/blob/main/docs/NotebooksLocalExperience.md) from the official dotnet GitHub repo):\n",
    "```PowerShell\n",
    "## list the current Jupyter kernel specs (if you don't have the Python\\Scripts\\ directory in your path, you should add it so you can call the jupyter modules; add it to your path in any way you usually would; for example, to set it for just the PowerShell session, $Env:Path += ';<pathToPythonStuff>\\Python39\\Scripts')\n",
    "jupyter-kernelspec.exe list\n",
    "## install the .NET Interactive kernel spec\n",
    "dotnet.exe tool install -g --add-source \"https://pkgs.dev.azure.com/dnceng/public/_packaging/dotnet-tools/nuget/v3/index.json\" Microsoft.dotnet-interactive\n",
    "dotnet.exe interactive jupyter install\n",
    "## list the Jupyter kernel specs again, and rejoice that the .NET kernel specs are now installed\n",
    "jupyter-kernelspec.exe list\n",
    "```\n",
    "\n",
    "Voila! You should be ready to whip out some Jupyter notebooks, now!  Launch the JupyterLab interface via `jupyter-lab.exe`, and you can create new notebooks, open existing, etc."
   ]
  },
  {
   "cell_type": "markdown",
   "metadata": {},
   "source": [
    "### Example code cells\n",
    "An example code cell or two, with example code output -- tiny example of running code in your notebook"
   ]
  },
  {
   "cell_type": "code",
   "execution_count": 13,
   "metadata": {},
   "outputs": [
    {
     "name": "stdout",
     "output_type": "stream",
     "text": [
      "\u001b[93mVERBOSE: Finding out: Is it currently Daylight Saving Time?\u001b[0m\n",
      "\n",
      "DateTime                                IsDaylightSavingTime TimeZone\n",
      "--------                                -------------------- --------\n",
      "Wednesday, February 24, 2021 6:32:04 PM                False (UTC-05:00) Eastern Time (US & Canada)\n",
      "\n"
     ]
    }
   ],
   "source": [
    "## something good here -- run this code cell and get current results\n",
    "Write-Verbose -Verbose \"Finding out: Is it currently Daylight Saving Time?\"\n",
    "Get-Date | Select DateTime, @{name = \"IsDaylightSavingTime\"; e={$_.IsDaylightSavingTime()}}, @{name = \"TimeZone\"; e={Get-TimeZone}}"
   ]
  },
  {
   "cell_type": "code",
   "execution_count": 42,
   "metadata": {},
   "outputs": [
    {
     "name": "stdout",
     "output_type": "stream",
     "text": [
      "\u001b[93mVERBOSE: Getting a random joke (assuming this public API is still up)\u001b[0m\n",
      "\n",
      "id         : 499\n",
      "joke       : Chuck Norris's keyboard has the Any key.\n",
      "categories : {nerdy}\n",
      "\n",
      "\n"
     ]
    }
   ],
   "source": [
    "## something else good, here; go ahead -- run this code cell!\n",
    "Write-Verbose -Verbose \"Getting a random joke (assuming this public API is still up)\"\n",
    "(Invoke-RestMethod -Uri http://api.icndb.com/jokes/random -Method Get).Value | Format-List"
   ]
  },
  {
   "cell_type": "markdown",
   "metadata": {},
   "source": [
    "## Other Thoughts\n",
    "JupyterLab and its notebooks can be super useful for conveying and sharing your code/docs mixtures, notebooks as runbooks, etc. For much serious/extensive development, you may want to use a full fledged editor like Microsoft's Visual Studio Code and an extension that provides notebook support. The extension for VSCode is in preview at the time of this writing, and is described in the previously mentioned [Using .NET notebooks on your machine](https://github.com/dotnet/interactive/blob/main/docs/NotebooksLocalExperience.md) doc. Worth a look.\n",
    "\n",
    "### Jupyter notebooks live on the web!\n",
    "And, for when you want to explore Jupyter notebooks without any software installs (or have others run your notebooks without such installs), there is a project called [Project Binder](https://jupyter.org/binder) by which you can run such things immediately on the world wide web.\n",
    "\n",
    "> \"With Binder, open those notebooks in an executable environment, making your code immediately reproducible by anyone, anywhere\" -- https://mybinder.org/\n",
    "\n",
    "A couple of Binder examples of running notebooks from a GitHub repo:\n",
    "- [<img alt=\"Binder\" align=\"left\" src=\"https://mybinder.org/badge_logo.svg\">](https://mybinder.org/v2/gh/dotnet/interactive/main?urlpath=lab)&nbsp;[on MyBinder](https://mybinder.org/v2/gh/dotnet/interactive/main?urlpath=lab): Instance in lab view with sample PowerShell notebooks from the .NET Interactive team: (as referred to at [dotnet/interactive](https://github.com/dotnet/interactive/blob/main/docs/NotebooksOnBinder.md) on GitHub)\n",
    "- [<img alt=\"Binder\" align=\"left\" src=\"https://mybinder.org/badge_logo.svg\">](https://mybinder.org/v2/gh/mtboren/PowerShellSkills/main?urlpath=tree/docs)&nbsp;[on MyBinder](https://mybinder.org/v2/gh/mtboren/PowerShellSkills/main?urlpath=tree/docs): Instance from _this_ GitHub repo (mtboren/PowerShellSkills); or, [Launch in JupyterLab view](https://mybinder.org/v2/gh/mtboren/PowerShellSkills/main?urlpath=lab/tree/docs) on MyBinder\n",
    "- note if links seem to not work: you may need to Ctrl+Click the Binder links to open in new tab when viewing this Jupyter notebook in the GitHub notebook viewer (default notebook viewer link behavior can be in inconsistent)"
   ]
  }
 ],
 "metadata": {
  "kernelspec": {
   "display_name": ".NET (PowerShell)",
   "language": "PowerShell",
   "name": ".net-powershell"
  },
  "language_info": {
   "file_extension": ".ps1",
   "mimetype": "text/x-powershell",
   "name": "PowerShell",
   "pygments_lexer": "powershell",
   "version": "7.0"
  }
 },
 "nbformat": 4,
 "nbformat_minor": 4
}
