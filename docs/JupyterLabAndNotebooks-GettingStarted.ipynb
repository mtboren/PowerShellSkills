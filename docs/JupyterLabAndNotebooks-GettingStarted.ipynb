{
 "cells": [
  {
   "cell_type": "markdown",
   "metadata": {},
   "source": [
    "# Getting Started with JupyterLab and .NET Interactive / PowerShell Notebooks\n",
    "Some steps to quickly get going with JupyterLab and making PowerShell notebooks for your MarkDown and code together\n",
    "\n",
    "Contents:\n",
    "- [Overview](#Overview)\n",
    "- Installs\n",
    "- Launch and Create\n",
    "- [Other Thoughts](#Other-Thoughts)\n",
    "\n",
    "## Overview\n",
    "JupyterLab, from the source:\n",
    "> \"JupyterLab is a web-based interactive development environment for Jupyter notebooks, code, and data\" -- https://jupyter.org/\n",
    "\n",
    "And, Jupyter notebooks:\n",
    "\n",
    "> \"The Jupyter Notebook is an open-source web application that allows you to create and share documents that contain live code, equations, visualizations and narrative text\" -- https://jupyter.org/\n",
    "\n",
    "The notebooks can, among other things, show your MarkDown and code in the same doc, run the code live, and store the output as desired in the notebook document itself. Handy for sharing such things. And, places like GitHub will automatically render the notebook and output, so people can instantly see what you meant, without having to have run any code themselves (good for documentation, learning/sharing).  This document, for example, is a Jupyter notebook!\n",
    "\n",
    "So, to use such things, you can install the requisite software items, and then launch your own JupyterLab environment in which to develop!\n",
    "\n",
    "## Installs\n",
    "That this is about creating [.NET Interactive](https://github.com/dotnet/interactive#net-interactive-) / PowerShell notebooks, this install section will have Windows-like things in it, but you can use these things anywhere that the .NET Interactive \n",
    "\n",
    "## Other Thoughts\n",
    "JupyterLab and its notebooks can be super useful for conveying and sharing your code/docs mixtures, notebooks as runbooks, etc. For much serious/extensive development, you may want to use a full fledged editor like Microsoft's Visual Studio Code that has integrated notebook support, but that takes a bit of additional setup/config for using additional Jupyter kernels (and requires the use of the Visual Studio Code Insiders build). Balance to consider.\n",
    "\n",
    "### Jupyter notebooks live on the web!\n",
    "And, for when you want to explore Jupyter notebooks without any software installs (or have others run your notebooks without such installs), there is a project called [Project Binder](https://jupyter.org/binder) by which you can run such things immediately on the world wide web.\n",
    "\n",
    "> \"With Binder, open those notebooks in an executable environment, making your code immediately reproducible by anyone, anywhere\" -- https://mybinder.org/\n",
    "\n",
    "* [![Binder](https://mybinder.org/badge_logo.svg)](https://mybinder.org/v2/gh/dotnet/interactive/main?urlpath=lab) -- Example Binder instance with sample PowerShell notebooks from the .NET Interactive team: (as referred to at [dotnet/interactive](https://github.com/dotnet/interactive/blob/main/docs/NotebooksOnBinder.md) on GitHub)\n",
    "\n"
   ]
  }
 ],
 "metadata": {
  "kernelspec": {
   "display_name": ".NET (PowerShell)",
   "language": "PowerShell",
   "name": ".net-powershell"
  },
  "language_info": {
   "file_extension": ".ps1",
   "mimetype": "text/x-powershell",
   "name": "PowerShell",
   "pygments_lexer": "powershell",
   "version": "7.0"
  }
 },
 "nbformat": 4,
 "nbformat_minor": 4
}
