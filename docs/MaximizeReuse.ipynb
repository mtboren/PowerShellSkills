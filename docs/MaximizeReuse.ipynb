{
 "cells": [
  {
   "cell_type": "markdown",
   "metadata": {},
   "source": [
    "# Maximize Simplicity of Re-use\n",
    "\n",
    "## What\n",
    "When we spend energy to emit artifacts, we can maximize the value the artifacts provide by making them most easy to consume / ingest / \"re-hydrate\".\n",
    "\n",
    "## How\n",
    "We can embrace standards leveraged by the rest of the world. Whether this is via some data format or serialization standards, the point is:\n",
    "- create some artifacts using a standard; Examples:\n",
    "    - file/data format, like JSON/YAML/XML/etc.\n",
    "    - datetime representations as strings (say, for use in verbose logging output), like standard datetime formats provided by the .NET Framework that adhere to international standard (like [ISO 8601](https://www.iso.org/iso-8601-date-and-time-format.html)): https://docs.microsoft.com/en-us/dotnet/standard/base-types/standard-date-and-time-format-strings\n",
    "- it is then simple for us / everyone to further leverage the goodness to do the subsequent valuable things for our use cases, maximizing composability (get objects, do stuff with objects, mine data, get results, prosper)\n",
    "\n",
    "## Examples\n",
    "Some examples of serializing objects that are most easily reconsumable (say, making string representations of datetime objects to use in a verbose message, but in a format that requires zero additional effort to decipher -- `Get-Date` just \"knows\" how to parse it already; thanks, standards!)"
   ]
  },
  {
   "cell_type": "markdown",
   "metadata": {},
   "source": [
    "- Leverage a standard datetime pattern, referring to it by full (albeit cumbersome) name `SortableDateTimePattern`, and then create a datetime object from that standard datetime string representation with no extra effort beyond invoking `Get-Date` (no need to try to figure out the datetime string format)"
   ]
  },
  {
   "cell_type": "code",
   "execution_count": 1,
   "metadata": {
    "vscode": {
     "languageId": "powershell"
    }
   },
   "outputs": [
    {
     "data": {
      "text/html": [
       "\r\n",
       "<div>\r\n",
       "    <div id='dotnet-interactive-this-cell-12196.Microsoft.DotNet.Interactive.Http.HttpPort' style='display: none'>\r\n",
       "        The below script needs to be able to find the current output cell; this is an easy method to get it.\r\n",
       "    </div>\r\n",
       "    <script type='text/javascript'>\r\n",
       "async function probeAddresses(probingAddresses) {\r\n",
       "    function timeout(ms, promise) {\r\n",
       "        return new Promise(function (resolve, reject) {\r\n",
       "            setTimeout(function () {\r\n",
       "                reject(new Error('timeout'))\r\n",
       "            }, ms)\r\n",
       "            promise.then(resolve, reject)\r\n",
       "        })\r\n",
       "    }\r\n",
       "\r\n",
       "    if (Array.isArray(probingAddresses)) {\r\n",
       "        for (let i = 0; i < probingAddresses.length; i++) {\r\n",
       "\r\n",
       "            let rootUrl = probingAddresses[i];\r\n",
       "\r\n",
       "            if (!rootUrl.endsWith('/')) {\r\n",
       "                rootUrl = `${rootUrl}/`;\r\n",
       "            }\r\n",
       "\r\n",
       "            try {\r\n",
       "                let response = await timeout(1000, fetch(`${rootUrl}discovery`, {\r\n",
       "                    method: 'POST',\r\n",
       "                    cache: 'no-cache',\r\n",
       "                    mode: 'cors',\r\n",
       "                    timeout: 1000,\r\n",
       "                    headers: {\r\n",
       "                        'Content-Type': 'text/plain'\r\n",
       "                    },\r\n",
       "                    body: probingAddresses[i]\r\n",
       "                }));\r\n",
       "\r\n",
       "                if (response.status == 200) {\r\n",
       "                    return rootUrl;\r\n",
       "                }\r\n",
       "            }\r\n",
       "            catch (e) { }\r\n",
       "        }\r\n",
       "    }\r\n",
       "}\r\n",
       "\r\n",
       "function loadDotnetInteractiveApi() {\r\n",
       "    probeAddresses([\"http://10.0.0.154:1000/\", \"http://192.168.125.1:1000/\", \"http://192.168.191.1:1000/\", \"http://172.27.240.1:1000/\", \"http://172.19.160.1:1000/\", \"http://172.30.192.1:1000/\", \"http://172.29.144.1:1000/\", \"http://172.20.16.1:1000/\", \"http://127.0.0.1:1000/\"])\r\n",
       "        .then((root) => {\r\n",
       "        // use probing to find host url and api resources\r\n",
       "        // load interactive helpers and language services\r\n",
       "        let dotnetInteractiveRequire = require.config({\r\n",
       "        context: '12196.Microsoft.DotNet.Interactive.Http.HttpPort',\r\n",
       "                paths:\r\n",
       "            {\r\n",
       "                'dotnet-interactive': `${root}resources`\r\n",
       "                }\r\n",
       "        }) || require;\r\n",
       "\r\n",
       "            window.dotnetInteractiveRequire = dotnetInteractiveRequire;\r\n",
       "\r\n",
       "            window.configureRequireFromExtension = function(extensionName, extensionCacheBuster) {\r\n",
       "                let paths = {};\r\n",
       "                paths[extensionName] = `${root}extensions/${extensionName}/resources/`;\r\n",
       "                \r\n",
       "                let internalRequire = require.config({\r\n",
       "                    context: extensionCacheBuster,\r\n",
       "                    paths: paths,\r\n",
       "                    urlArgs: `cacheBuster=${extensionCacheBuster}`\r\n",
       "                    }) || require;\r\n",
       "\r\n",
       "                return internalRequire\r\n",
       "            };\r\n",
       "        \r\n",
       "            dotnetInteractiveRequire([\r\n",
       "                    'dotnet-interactive/dotnet-interactive'\r\n",
       "                ],\r\n",
       "                function (dotnet) {\r\n",
       "                    dotnet.init(window);\r\n",
       "                },\r\n",
       "                function (error) {\r\n",
       "                    console.log(error);\r\n",
       "                }\r\n",
       "            );\r\n",
       "        })\r\n",
       "        .catch(error => {console.log(error);});\r\n",
       "    }\r\n",
       "\r\n",
       "// ensure `require` is available globally\r\n",
       "if ((typeof(require) !==  typeof(Function)) || (typeof(require.config) !== typeof(Function))) {\r\n",
       "    let require_script = document.createElement('script');\r\n",
       "    require_script.setAttribute('src', 'https://cdnjs.cloudflare.com/ajax/libs/require.js/2.3.6/require.min.js');\r\n",
       "    require_script.setAttribute('type', 'text/javascript');\r\n",
       "    \r\n",
       "    \r\n",
       "    require_script.onload = function() {\r\n",
       "        loadDotnetInteractiveApi();\r\n",
       "    };\r\n",
       "\r\n",
       "    document.getElementsByTagName('head')[0].appendChild(require_script);\r\n",
       "}\r\n",
       "else {\r\n",
       "    loadDotnetInteractiveApi();\r\n",
       "}\r\n",
       "\r\n",
       "    </script>\r\n",
       "</div>"
      ]
     },
     "metadata": {},
     "output_type": "display_data"
    },
    {
     "name": "stdout",
     "output_type": "stream",
     "text": [
      "\u001b[93mVERBOSE: datetime string: 2019-05-19T09:15:13\u001b[0m\n",
      "\u001b[93mVERBOSE: and, rich datetime object created from given string in known / well-defined format:\u001b[0m\n",
      "\n",
      "Sunday, May 19, 2019 9:15:13 AM\n",
      "\n"
     ]
    }
   ],
   "source": [
    "(Get-Date).AddYears(-3.3).ToString(([System.Globalization.DateTimeFormatInfo]::CurrentInfo).SortableDateTimePattern) | ForEach-Object {Write-Verbose -Verbose \"datetime string: $_\"; Write-Verbose -Verbose \"and, rich datetime object created from given string in known / well-defined format:\"; Get-Date $_}"
   ]
  },
  {
   "cell_type": "markdown",
   "metadata": {},
   "source": [
    "- Same, but use the standard \"Sortable date/time pattern\" format specifier `s` provided by the .NET Framework, instead of the full format pattern name"
   ]
  },
  {
   "cell_type": "code",
   "execution_count": 6,
   "metadata": {
    "vscode": {
     "languageId": "powershell"
    }
   },
   "outputs": [
    {
     "name": "stdout",
     "output_type": "stream",
     "text": [
      "\u001b[93mVERBOSE: datetime string: 2019-05-19T09:25:11\u001b[0m\n",
      "\u001b[93mVERBOSE: and, rich datetime object created from given string in known / well-defined format:\u001b[0m\n",
      "\n",
      "Sunday, May 19, 2019 9:25:11 AM\n",
      "\n"
     ]
    }
   ],
   "source": [
    "(Get-Date).AddYears(-3.3).ToString(\"s\") | ForEach-Object {Write-Verbose -Verbose \"datetime string: $_\"; Write-Verbose -Verbose \"and, rich datetime object created from given string in known / well-defined format:\"; Get-Date $_}"
   ]
  },
  {
   "cell_type": "markdown",
   "metadata": {},
   "source": [
    "- Show several of the inbuilt .NET Framework datetime formats (see https://docs.microsoft.com/en-us/dotnet/standard/base-types/standard-date-and-time-format-strings for further information).\n",
    "\n",
    "    **Note**: We want to be mindful when using things that deal in Universal (GMT) time -- remember to make it local/universal as appropriate when reconsuming"
   ]
  },
  {
   "cell_type": "code",
   "execution_count": 4,
   "metadata": {
    "vscode": {
     "languageId": "powershell"
    }
   },
   "outputs": [
    {
     "name": "stdout",
     "output_type": "stream",
     "text": [
      "\n",
      "\u001b[32;1mFormatSpecifier DateTimeString                    DateTimeFromString\u001b[0m\n",
      "\u001b[32;1m--------------- --------------                    ------------------\u001b[0m\n",
      "s               2019-05-19T09:21:28               5/19/2019 9:21:28 AM\n",
      "o               2019-05-19T09:21:28.5995572-04:00 5/19/2019 9:21:28 AM\n",
      "O               2019-05-19T09:21:28.6002746-04:00 5/19/2019 9:21:28 AM\n",
      "r               Sun, 19 May 2019 09:21:28 GMT     5/19/2019 5:21:28 AM\n",
      "R               Sun, 19 May 2019 09:21:28 GMT     5/19/2019 5:21:28 AM\n",
      "u               2019-05-19 09:21:28Z              5/19/2019 5:21:28 AM\n",
      "U               Sunday, May 19, 2019 1:21:28 PM   5/19/2019 1:21:28 PM\n",
      "\n"
     ]
    }
   ],
   "source": [
    "Write-Output s o O r R u U | ForEach-Object {\n",
    "    $strThisFormatSpecifier = $_\n",
    "    New-Object -TypeName PSObject -Property ([ordered]@{\n",
    "        FormatSpecifier = $strThisFormatSpecifier\n",
    "        DateTimeString = ($strThisDateTimeString = (Get-Date).AddYears(-3.3).ToString($strThisFormatSpecifier))\n",
    "        DateTimeFromString = Get-Date -Date $strThisDateTimeString\n",
    "    })\n",
    "}"
   ]
  }
 ],
 "metadata": {
  "kernelspec": {
   "display_name": ".NET (PowerShell)",
   "language": "PowerShell",
   "name": ".net-powershell"
  },
  "language_info": {
   "file_extension": ".ps1",
   "mimetype": "text/x-powershell",
   "name": "PowerShell",
   "pygments_lexer": "powershell",
   "version": "7.0"
  },
  "orig_nbformat": 4
 },
 "nbformat": 4,
 "nbformat_minor": 2
}
