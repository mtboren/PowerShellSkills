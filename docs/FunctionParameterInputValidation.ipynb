{
 "cells": [
  {
   "cell_type": "markdown",
   "id": "271b23d7-9cb0-4d22-8ffc-3d24d8581474",
   "metadata": {},
   "source": [
    "# PowerShell Function Parameter Input Validation\n",
    "So as to have the most reliable and predictable outcomes from our functions, we should validate parameter values supplied by consumers!\n",
    "\n",
    "Through example function definitions here, let us explore some of at least the in-built ways in which PowerShell will validate the things for us!\n",
    "\n",
    "## General Tips\n",
    "Some general tips for validating parameter values in PowerShell functions:\n",
    "- leverage `Allow*` and `Validate*` parameter attributes for parameters. More info in the PowerShell help [about_functions_advanced_parameters](https://learn.microsoft.com/en-us/powershell/module/microsoft.powershell.core/about/about_functions_advanced_parameters#parameter-and-variable-validation-attributes)\n",
    "- use expicit type declarations for your parameters for much in-built validation (is value already of type X? Then it already conforms to the needed/expected)\n",
    "    - this also helps with `ValueFromPipeline` succinctness / simplification, for when it's time to be advanced in the \"taking parameter values from pipeline\" aspect\n",
    "\n",
    "## Examples\n",
    "Here we have a collection of various wireframe functions that illustrate the use of several of the parameter attributes for parameter validation, as well as using newly created enumerations. Also, we have an example of leveraging an existing object type. See the \"functions advaned parameters\" help above for the comprehensive docs.\n",
    "\n",
    "### Using `ValidateLength`\n",
    "Need to ensure the a given parameter's value is of a certain length? Sure!"
   ]
  },
  {
   "cell_type": "code",
   "execution_count": 8,
   "id": "28e0fcab-0378-495b-b5f8-9d2825f289e1",
   "metadata": {
    "tags": []
   },
   "outputs": [],
   "source": [
    "function New-Thingy {\n",
    "    <#  .Description\n",
    "        Create a new thingy of the given name\n",
    "    #>\n",
    "    [CmdletBinding()]\n",
    "    param(\n",
    "        ## The name to use for the new thingy. Must be of acceptable length\n",
    "        [ValidateLength(6,32)][String[]]$Name\n",
    "    )\n",
    "    process {$Name | Foreach-Object {Write-Verbose \"Cool -- creating new thingy named '$_'\"}}\n",
    "}"
   ]
  },
  {
   "cell_type": "markdown",
   "id": "4f0b88ae-f1d7-4e82-9cb3-d02875febd8d",
   "metadata": {
    "tags": []
   },
   "source": [
    "Let's see -- these param values of valid length?"
   ]
  },
  {
   "cell_type": "code",
   "execution_count": 20,
   "id": "e83cbd3c-7600-49b9-898a-3df2ff20c71f",
   "metadata": {
    "tags": []
   },
   "outputs": [
    {
     "name": "stdout",
     "output_type": "stream",
     "text": [
      "\u001b[31;1mNew-Thingy: \u001b[31;1mCannot validate argument on parameter 'Name'. The character length (5) of the argument is too short. Specify an argument with a length that is greater than or equal to \"6\", and then try the command again.\u001b[0m\n"
     ]
    }
   ],
   "source": [
    "New-Thingy -Name shrty, longggggg -Verbose"
   ]
  },
  {
   "cell_type": "markdown",
   "id": "d24e6ede-fd9e-4b38-bbc6-8042645667d5",
   "metadata": {},
   "source": [
    "Oh, no, a parameter value was too short! Ok, let's try again:"
   ]
  },
  {
   "cell_type": "code",
   "execution_count": 9,
   "id": "2c6b4e28-b352-4c05-8723-7fc44043afa7",
   "metadata": {
    "tags": []
   },
   "outputs": [
    {
     "name": "stdout",
     "output_type": "stream",
     "text": [
      "\u001b[93mVERBOSE: Cool -- creating new thingy named 'lessShort'\u001b[0m\n",
      "\u001b[93mVERBOSE: Cool -- creating new thingy named 'longggggg'\u001b[0m\n"
     ]
    }
   ],
   "source": [
    "New-Thingy -Name lessShort, longggggg -Verbose"
   ]
  },
  {
   "cell_type": "markdown",
   "id": "1ce20b08-1d7f-4c0e-a40d-00e614ff3668",
   "metadata": {},
   "source": [
    "Success!\n",
    "### Using `ValidateRange`\n",
    "How about ensuring that a parameter's value is within a particular range? Fine!"
   ]
  },
  {
   "cell_type": "code",
   "execution_count": 18,
   "id": "d6895afd-e367-42fc-8537-46e561c981fc",
   "metadata": {
    "tags": []
   },
   "outputs": [],
   "source": [
    "function Set-Temperature {\n",
    "    <#  .Description\n",
    "        Set the thermostat to some temperature for maximum comfort\n",
    "    #>\n",
    "    [CmdletBinding()]\n",
    "    param(\n",
    "        ## To what temperature (Farenheit) this set the thermostat?\n",
    "        [ValidateRange(55, 80)][Int]$Temperature\n",
    "    )\n",
    "\n",
    "    process {Write-Verbose \"Oh, boy -- setting the temperature to '$Temperature'\"}\n",
    "}"
   ]
  },
  {
   "cell_type": "markdown",
   "id": "101ecd95-0a91-46e5-ab63-969a7123ca1e",
   "metadata": {
    "tags": []
   },
   "source": [
    "Ok, how are these temperatures?"
   ]
  },
  {
   "cell_type": "code",
   "execution_count": 19,
   "id": "8e67ae5e-5d90-4431-926a-b1f7a2983f04",
   "metadata": {
    "tags": []
   },
   "outputs": [
    {
     "name": "stdout",
     "output_type": "stream",
     "text": [
      "\u001b[93mVERBOSE: Oh, boy -- setting the temperature to '71'\u001b[0m\n",
      "\u001b[93mVERBOSE: Oh, boy -- setting the temperature to '80'\u001b[0m\n"
     ]
    }
   ],
   "source": [
    "Set-Temperature -Temperature 71 -Verbose\n",
    "Set-Temperature -Temperature 80 -Verbose"
   ]
  },
  {
   "cell_type": "markdown",
   "id": "610c6ffc-8509-4620-aafc-dcb2638b3729",
   "metadata": {},
   "source": [
    "Noice -- that seemingly worked. How about ensuring that too cold or too hot are invalid values?"
   ]
  },
  {
   "cell_type": "code",
   "execution_count": 15,
   "id": "a5d368bc-5cb9-4e14-84d1-061fa5a65230",
   "metadata": {},
   "outputs": [
    {
     "name": "stdout",
     "output_type": "stream",
     "text": [
      "\u001b[31;1mSet-Temperature: \u001b[31;1mCannot validate argument on parameter 'Temperature'. The 0 argument is less than the minimum allowed range of 55. Supply an argument that is greater than or equal to 55 and then try the command again.\u001b[0m\n"
     ]
    }
   ],
   "source": [
    "Set-Temperature -Verbose -Temperature 0"
   ]
  },
  {
   "cell_type": "code",
   "execution_count": 16,
   "id": "3589f8e0-666f-44a1-af7d-fa444567d17a",
   "metadata": {},
   "outputs": [
    {
     "name": "stdout",
     "output_type": "stream",
     "text": [
      "\u001b[31;1mSet-Temperature: \u001b[31;1mCannot validate argument on parameter 'Temperature'. The 212 argument is greater than the maximum allowed range of 80. Supply an argument that is less than or equal to 80 and then try the command again.\u001b[0m\n"
     ]
    }
   ],
   "source": [
    "Set-Temperature -Verbose -Temperature 212"
   ]
  },
  {
   "cell_type": "markdown",
   "id": "fa84c5e1-272d-4999-8a26-c83fba4b3ac2",
   "metadata": {},
   "source": [
    "Seems legit -- we'll keep a nice, comfortable abode 😎\n",
    "### Using `ValidateSet`\n",
    "Oh, need to have a parameter value that is one of some predefined set of values? ¡No problemo!"
   ]
  },
  {
   "cell_type": "code",
   "execution_count": 22,
   "id": "776f58a7-b14f-4899-a772-a13a3af192eb",
   "metadata": {
    "tags": []
   },
   "outputs": [],
   "source": [
    "function Start-PandoraStation {\n",
    "    <#  .Description\n",
    "        Start the given Pandora station\n",
    "    #>\n",
    "    [CmdletBinding()]\n",
    "    param(\n",
    "        ## The station to start. Pick a wiener!\n",
    "        [ValidateSet(\"Slayer\", \"Metallica\", \"ABRB\", \"TBDM\")][String]$Name = \"Slayer\"\n",
    "    )\n",
    "\n",
    "    process {Write-Verbose \"Starting Pandora station '$Name Radio'\"}\n",
    "}"
   ]
  },
  {
   "cell_type": "markdown",
   "id": "62975c40-f155-4617-b256-1c157e18a045",
   "metadata": {},
   "source": [
    "Ok, let's rock."
   ]
  },
  {
   "cell_type": "code",
   "execution_count": 23,
   "id": "31a3ce75-9722-4485-9db5-fce26d34b982",
   "metadata": {
    "tags": []
   },
   "outputs": [
    {
     "name": "stdout",
     "output_type": "stream",
     "text": [
      "\u001b[93mVERBOSE: Starting Pandora station 'ABRB Radio'\u001b[0m\n"
     ]
    }
   ],
   "source": [
    "Start-PandoraStation -Verbose -Name ABRB"
   ]
  },
  {
   "cell_type": "markdown",
   "id": "46d720f7-1007-4e6d-86f2-62da9a879d27",
   "metadata": {},
   "source": [
    "Yiss! 🤘\n",
    "\n",
    "How about some easier listening -- does our function allow this kind of chill?"
   ]
  },
  {
   "cell_type": "code",
   "execution_count": 28,
   "id": "187c5422-6e92-495e-bcc2-656eae1f3e1d",
   "metadata": {
    "tags": []
   },
   "outputs": [
    {
     "name": "stdout",
     "output_type": "stream",
     "text": [
      "\u001b[31;1mStart-PandoraStation: \u001b[31;1mCannot validate argument on parameter 'Name'. The argument \"AᗺBA\" does not belong to the set \"Slayer,Metallica,ABRB,TBDM\" specified by the ValidateSet attribute. Supply an argument that is in the set and then try the command again.\u001b[0m\n"
     ]
    }
   ],
   "source": [
    "Start-PandoraStation -Verbose -Name AᗺBA"
   ]
  },
  {
   "cell_type": "markdown",
   "id": "ce21a7db-788b-4ec1-9c4e-651a3526d9cb",
   "metadata": {},
   "source": [
    "Mhmm -- the function author was having no '70s supergroup in here. No 'Dancing Queen' for you!\n",
    "### Using PowerShell v5+'s `enum`s or `class`es\n",
    "We can use an [enum](https://learn.microsoft.com/en-us/powershell/module/microsoft.powershell.core/about/about_enum) (or, similarly, a [class](https://learn.microsoft.com/en-us/powershell/module/microsoft.powershell.core/about/about_classes)) to define what is the type of the parameter value that is accepted and valid."
   ]
  },
  {
   "cell_type": "code",
   "execution_count": 29,
   "id": "ca3db42f-fcb9-4057-bb14-2a9a78ed260b",
   "metadata": {
    "tags": []
   },
   "outputs": [],
   "source": [
    "## define some enum for later use\n",
    "enum AcceptableBand {\n",
    "    Slayer\n",
    "    Metallica\n",
    "    ABRB\n",
    "    TBDM\n",
    "}\n",
    "\n",
    "function Start-PandoraStation_UseParamType {\n",
    "    <#  .Description\n",
    "        Start the given Pandora station\n",
    "    #>\n",
    "    [CmdletBinding()]\n",
    "    param(\n",
    "        ## The station to start\n",
    "        [AcceptableBand]$Name = \"Slayer\"\n",
    "    )\n",
    "\n",
    "    process {Write-Verbose \"Starting Pandora station '$Name Radio'\"}\n",
    "}"
   ]
  },
  {
   "cell_type": "markdown",
   "id": "009bfa06-5a43-432e-86eb-31ed8bf4f85c",
   "metadata": {},
   "source": [
    "Ok, can we still rock?"
   ]
  },
  {
   "cell_type": "code",
   "execution_count": 30,
   "id": "2043ad97-6f69-406b-a531-8a7db2f61f44",
   "metadata": {
    "tags": []
   },
   "outputs": [
    {
     "name": "stdout",
     "output_type": "stream",
     "text": [
      "\u001b[93mVERBOSE: Starting Pandora station 'TBDM Radio'\u001b[0m\n"
     ]
    }
   ],
   "source": [
    "Start-PandoraStation -Verbose -Name TBDM"
   ]
  },
  {
   "cell_type": "markdown",
   "id": "dc8fe103-5c0b-42b8-9863-e108dbdf5c6e",
   "metadata": {},
   "source": [
    "Still yiss! 🤘\n",
    "\n",
    "And, does our function still prevent chill?"
   ]
  },
  {
   "cell_type": "code",
   "execution_count": 31,
   "id": "de494aa1-e873-469e-a450-279c00d49cc3",
   "metadata": {
    "tags": []
   },
   "outputs": [
    {
     "name": "stdout",
     "output_type": "stream",
     "text": [
      "\u001b[31;1mStart-PandoraStation: \u001b[31;1mCannot validate argument on parameter 'Name'. The argument \"AᗺBA\" does not belong to the set \"Slayer,Metallica,ABRB,TBDM\" specified by the ValidateSet attribute. Supply an argument that is in the set and then try the command again.\u001b[0m\n"
     ]
    }
   ],
   "source": [
    "Start-PandoraStation -Verbose -Name AᗺBA"
   ]
  },
  {
   "cell_type": "markdown",
   "id": "143060b0-e440-44fe-b756-15ce01263299",
   "metadata": {},
   "source": [
    "Noice -- same parameter validation, now with a reusable enumeration (say, for use in other functions / modules / etc.)!\n",
    "\n",
    "### Using Existing Object Models\n",
    "Similarly, we can use existing types to define what is the type of the parameter value that is accepted and valid. This can take care of much of the lifting (no need to define our own thingies, leverage well-known objects already in use by consumers!)."
   ]
  },
  {
   "cell_type": "code",
   "execution_count": 32,
   "id": "a6d0b8b0-3e2e-4adf-8696-9fcd3b72e752",
   "metadata": {
    "tags": []
   },
   "outputs": [],
   "source": [
    "function Get-VMStuff {\n",
    "    <#  .Description\n",
    "        Get some pertinent info for the given VMware VM\n",
    "\n",
    "        .Example\n",
    "        Get-VM myVm | Get-VMStuff\n",
    "    #>\n",
    "    [CmdletBinding()]\n",
    "    param(\n",
    "        ## The VM(s) for which to get stuff\n",
    "        [parameter(ValueFromPipeline = $true)][VMware.VimAutomation.Types.VirtualMachine[]]$VM\n",
    "    )\n",
    "    process {\n",
    "        $VM | Foreach-Object {\n",
    "            $_ | Select-Object -Property Name, NumCPU, @{Name = \"NIC\"; e={($script:ThisNic = $_ | Get-NetworkAdapter)}}, @{Name = \"NetworkName\"; e={$ThisNic.NetworkName}}, VMHost\n",
    "        }\n",
    "    }\n",
    "}"
   ]
  },
  {
   "cell_type": "markdown",
   "id": "4bd124db-0ad3-42de-af91-9dd4f8c63457",
   "metadata": {},
   "source": [
    "K, let's try this out"
   ]
  },
  {
   "cell_type": "code",
   "execution_count": 34,
   "id": "c08e560f-693f-4f76-b74e-f715a47e34e2",
   "metadata": {
    "tags": []
   },
   "outputs": [
    {
     "name": "stdout",
     "output_type": "stream",
     "text": [
      "\n",
      "\u001b[32;1mName        : \u001b[0mmyCoolVM\n",
      "\u001b[32;1mNumCpu      : \u001b[0m1\n",
      "\u001b[32;1mNIC         : \u001b[0mNetwork adapter 1\n",
      "\u001b[32;1mNetworkName : \u001b[0mVMNet0.VLAN391\n",
      "\u001b[32;1mVMHost      : \u001b[0mmyhost0.dom.com\n",
      "\n",
      "\n"
     ]
    }
   ],
   "source": [
    "Get-VM myCoolVM | Get-VMStuff"
   ]
  },
  {
   "cell_type": "markdown",
   "id": "56f0a82c-9414-4944-b7aa-1c8c75a27cd3",
   "metadata": {},
   "source": [
    "Alright, so now we can just pipe in some `VirtualMachine` object, and our function does all the goodness -- we didn't have to do any verification on the in put beyond specifying the object type we required! Poof -- the use of parameter types for parameter validation! Next step, incorporate such things when suitable into your hot functions!"
   ]
  }
 ],
 "metadata": {
  "kernelspec": {
   "display_name": ".NET (PowerShell)",
   "language": "PowerShell",
   "name": ".net-powershell"
  },
  "language_info": {
   "file_extension": ".ps1",
   "mimetype": "text/x-powershell",
   "name": "PowerShell",
   "pygments_lexer": "powershell",
   "version": "7.0"
  }
 },
 "nbformat": 4,
 "nbformat_minor": 5
}
