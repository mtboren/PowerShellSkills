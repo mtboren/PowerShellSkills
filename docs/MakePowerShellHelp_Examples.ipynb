{
 "cells": [
  {
   "cell_type": "markdown",
   "metadata": {},
   "source": [
    "# Examples of making PowerShell help\n",
    "Here we see some versions of a script with varying amounts of help in them, to illustrate the components used for comment-based help in PowerShell\n",
    "\n",
    "Contents:\n",
    "1. [Helpless](#Helpless): no help for you and me\n",
    "1. [Kinda Helpful](#Kinda-Helpful): with just a minor add of a block comment, instant help!\n",
    "1. [Lots of help!](#Lots-of-help): fully embracing the help system, leverage several features\n",
    "1. [See the diff](#See-the-diff): see the difference between the versions of the script, and just how easy it is to get full-on help for your scripts/cmdlets!"
   ]
  },
  {
   "cell_type": "markdown",
   "metadata": {},
   "source": [
    "## Helpless\n",
    "A script that provides no help whatsoever, except for the most basic of usage syntax (thanks to the pity that PowerShell takes on fools)."
   ]
  },
  {
   "cell_type": "code",
   "execution_count": null,
   "metadata": {},
   "outputs": [],
   "source": [
    "Get-Help -Full examples_MakePowerShellHelp\\Get-Nugglet_0_helpless.ps1"
   ]
  },
  {
   "cell_type": "markdown",
   "metadata": {},
   "source": [
    "## Kinda Helpful\n",
    "By adding just a single block comment to our script, we (and everyone will) get proper help in the PowerShell help format that we know and love"
   ]
  },
  {
   "cell_type": "code",
   "execution_count": null,
   "metadata": {},
   "outputs": [],
   "source": [
    "Get-Help -Full examples_MakePowerShellHelp\\Get-Nugglet_1_kindaHelpful.ps1"
   ]
  },
  {
   "cell_type": "markdown",
   "metadata": {},
   "source": [
    "## Lots of help\n",
    "A script that implements much of the comment-based help, like synopsis, description, inputs, outputs, notes, examples, etc.  What a great script to give to the world!"
   ]
  },
  {
   "cell_type": "code",
   "execution_count": null,
   "metadata": {},
   "outputs": [],
   "source": [
    "Get-Help -Full examples_MakePowerShellHelp\\Get-Nugglet.ps1"
   ]
  },
  {
   "cell_type": "markdown",
   "metadata": {},
   "source": [
    "## See the diff\n",
    "A quick command to see the difference between a few of the version, in order to show how easy (and how little effort) it can be to implement proper help in your scripts! This example assumes that you have the free and open source Visual Studio Code editor installed, but use your favorite diff tool"
   ]
  },
  {
   "cell_type": "code",
   "execution_count": null,
   "metadata": {},
   "outputs": [],
   "source": [
    "## the diff between the no-help-at-all and the already far superior (with minor effort) kinda-helpful version\n",
    "code --diff examples_MakePowerShellHelp\\Get-Nugglet_0_helpless.ps1 examples_MakePowerShellHelp\\Get-Nugglet_1_kindaHelpful.ps1"
   ]
  },
  {
   "cell_type": "code",
   "execution_count": null,
   "metadata": {},
   "outputs": [],
   "source": [
    "## and, the diff between the no-help-at-all and the ready-for-prime-time version (not that much additional effort, especially considering the return on investment!)\n",
    "code --diff examples_MakePowerShellHelp\\Get-Nugglet_0_helpless.ps1 examples_MakePowerShellHelp\\Get-Nugglet.ps1"
   ]
  }
 ],
 "metadata": {
  "kernelspec": {
   "display_name": ".NET (PowerShell)",
   "language": "PowerShell",
   "name": ".net-powershell"
  },
  "language_info": {
   "file_extension": ".ps1",
   "mimetype": "text/x-powershell",
   "name": "PowerShell",
   "pygments_lexer": "powershell",
   "version": "7.0"
  }
 },
 "nbformat": 4,
 "nbformat_minor": 4
}
