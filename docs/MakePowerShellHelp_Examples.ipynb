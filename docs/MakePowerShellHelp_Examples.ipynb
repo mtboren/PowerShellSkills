{
 "cells": [
  {
   "cell_type": "markdown",
   "metadata": {},
   "source": [
    "# Examples of making PowerShell help\n",
    "Here we see some versions of a script with varying amounts of help in them, to illustrate the components used for comment-based help in PowerShell\n",
    "\n",
    "Contents:\n",
    "1. [Helpless](#Helpless): no help for you and me\n",
    "1. [Kinda Helpful](#Kinda-Helpful): with just a minor add of a block comment, instant help!\n",
    "1. [Lots of help!](#Lots-of-help): fully embracing the help system, leverage several features\n",
    "1. [See the diff](#See-the-diff): see the difference between the versions of the script, and just how easy it is to get full-on help for your scripts/cmdlets!"
   ]
  },
  {
   "cell_type": "markdown",
   "metadata": {},
   "source": [
    "## Helpless\n",
    "A script ([examples_MakePowerShellHelp\\Get-Nugglet_0_helpless.ps1](https://github.com/mtboren/PowerShellSkills/blob/main/docs/examples_MakePowerShellHelp/Get-Nugglet_0_helpless.ps1)) that provides no help whatsoever, except for the most basic of usage syntax (thanks to the pity that PowerShell takes on fools)."
   ]
  },
  {
   "cell_type": "code",
   "execution_count": 2,
   "metadata": {},
   "outputs": [
    {
     "name": "stdout",
     "output_type": "stream",
     "text": [
      "Get-Nugglet_0_helpless.ps1 [[-Name] <string[]>]\n",
      "\n"
     ]
    }
   ],
   "source": [
    "Get-Help -Full .\\examples_MakePowerShellHelp\\Get-Nugglet_0_helpless.ps1"
   ]
  },
  {
   "cell_type": "markdown",
   "metadata": {},
   "source": [
    "## Kinda Helpful\n",
    "By adding just a single block comment to our script, we (and everyone will) get proper help in the PowerShell help format that we know and love"
   ]
  },
  {
   "cell_type": "code",
   "execution_count": 11,
   "metadata": {},
   "outputs": [
    {
     "name": "stdout",
     "output_type": "stream",
     "text": [
      "\n",
      "NAME\n",
      "    <thisRepo>\\PowerShellSkills\\docs\\examples_MakePowerShellHelp\\Get-Nugglet_1_kindaHelpful.\n",
      "    ps1\n",
      "    \n",
      "SYNOPSIS\n",
      "    \n",
      "    \n",
      "SYNTAX\n",
      "    <thisRepo>\\PowerShellSkills\\docs\\examples_MakePowerShellHelp\\Get-Nugglet_1_kindaHelpful.\n",
      "    ps1 [[-Name] <String[]>] [<CommonParameters>]\n",
      "    \n",
      "    \n",
      "DESCRIPTION\n",
      "    Get the important nugglets from the server based on the identity provided (nugglet name, \n",
      "    nugglet ID, etc)\n",
      "    \n",
      "\n",
      "PARAMETERS\n",
      "    -Name <String[]>\n",
      "        Name(s) of the nugglet(s) to get. Accepts wildcards\n",
      "        \n",
      "        Required?                    false\n",
      "        Position?                    1\n",
      "        Default value                \n",
      "        Accept pipeline input?       false\n",
      "        Accept wildcard characters?  false\n",
      "        \n",
      "    <CommonParameters>\n",
      "        This cmdlet supports the common parameters: Verbose, Debug,\n",
      "        ErrorAction, ErrorVariable, WarningAction, WarningVariable,\n",
      "        OutBuffer, PipelineVariable, and OutVariable. For more information, see\n",
      "        about_CommonParameters (https://go.microsoft.com/fwlink/?LinkID=113216). \n",
      "    \n",
      "INPUTS\n",
      "    \n",
      "OUTPUTS\n",
      "    \n",
      "    \n",
      "RELATED LINKS\n",
      "\n",
      "\n"
     ]
    }
   ],
   "source": [
    "Get-Help -Full .\\examples_MakePowerShellHelp\\Get-Nugglet_1_kindaHelpful.ps1"
   ]
  },
  {
   "cell_type": "markdown",
   "metadata": {},
   "source": [
    "## Lots of help\n",
    "A script that implements much of the comment-based help, like synopsis, description, inputs, outputs, notes, examples, etc.  What a great script to give to the world!"
   ]
  },
  {
   "cell_type": "code",
   "execution_count": 12,
   "metadata": {},
   "outputs": [
    {
     "name": "stdout",
     "output_type": "stream",
     "text": [
      "\n",
      "NAME\n",
      "    <thisRepo>\\PowerShellSkills\\docs\\examples_MakePowerShellHelp\\Get-Nugglet.ps1\n",
      "    \n",
      "SYNOPSIS\n",
      "    Get nugglets\n",
      "    \n",
      "    \n",
      "SYNTAX\n",
      "    <thisRepo>\\PowerShellSkills\\docs\\examples_MakePowerShellHelp\\Get-Nugglet.ps1 [[-Name] \n",
      "    <String[]>] [<CommonParameters>]\n",
      "    \n",
      "    \n",
      "DESCRIPTION\n",
      "    Get the important nugglets from the server based on the identity provided (nugglet name, \n",
      "    nugglet ID, etc)\n",
      "    \n",
      "\n",
      "PARAMETERS\n",
      "    -Name <String[]>\n",
      "        Name(s) of the nugglet(s) to get. Accepts wildcards\n",
      "        \n",
      "        Required?                    false\n",
      "        Position?                    1\n",
      "        Default value                \n",
      "        Accept pipeline input?       false\n",
      "        Accept wildcard characters?  false\n",
      "        \n",
      "    <CommonParameters>\n",
      "        This cmdlet supports the common parameters: Verbose, Debug,\n",
      "        ErrorAction, ErrorVariable, WarningAction, WarningVariable,\n",
      "        OutBuffer, PipelineVariable, and OutVariable. For more information, see\n",
      "        about_CommonParameters (https://go.microsoft.com/fwlink/?LinkID=113216). \n",
      "    \n",
      "INPUTS\n",
      "    [System.String[]] or $null\n",
      "    \n",
      "    \n",
      "OUTPUTS\n",
      "    [Nuggies.Nugglet] object for every nugglet retrieved\n",
      "    \n",
      "    \n",
      "NOTES\n",
      "    \n",
      "    \n",
      "        Quite a valuable function here -- so much usability in its comment-based help. Can add \n",
      "        whatever freeform stuff here.\n",
      "    \n",
      "    -------------------------- EXAMPLE 1 --------------------------\n",
      "    \n",
      "    PS > Get-Nugglet\n",
      "    Get all the nugglets from the connected server\n",
      "    \n",
      "    \n",
      "    \n",
      "    \n",
      "    \n",
      "    \n",
      "    -------------------------- EXAMPLE 2 --------------------------\n",
      "    \n",
      "    PS > Get-Nugglet -Name myImportantNugg0, otherNugg*\n",
      "    Get the nugglets of the given names\n",
      "    \n",
      "    \n",
      "    \n",
      "    \n",
      "    \n",
      "    \n",
      "    \n",
      "RELATED LINKS\n",
      "    New-Nugglet\n",
      "    Set-Nugglet\n",
      "    Remove-Nugglet\n",
      "    See also https://nuggies.com \n",
      "\n",
      "\n"
     ]
    }
   ],
   "source": [
    "Get-Help -Full .\\examples_MakePowerShellHelp\\Get-Nugglet.ps1"
   ]
  },
  {
   "cell_type": "markdown",
   "metadata": {},
   "source": [
    "## See the diff\n",
    "A quick command to see the difference between a few of the version, in order to show how easy (and how little effort) it can be to implement proper help in your scripts! This example assumes that you have the free and open source Visual Studio Code editor installed, but use your favorite diff tool"
   ]
  },
  {
   "cell_type": "code",
   "execution_count": null,
   "metadata": {},
   "outputs": [],
   "source": [
    "## the diff between the no-help-at-all and the already far superior (with minor effort) kinda-helpful version\n",
    "code --diff examples_MakePowerShellHelp\\Get-Nugglet_0_helpless.ps1 examples_MakePowerShellHelp\\Get-Nugglet_1_kindaHelpful.ps1"
   ]
  },
  {
   "cell_type": "code",
   "execution_count": null,
   "metadata": {},
   "outputs": [],
   "source": [
    "## and, the diff between the no-help-at-all and the ready-for-prime-time version (not that much additional effort, especially considering the return on investment!)\n",
    "code --diff examples_MakePowerShellHelp\\Get-Nugglet_0_helpless.ps1 examples_MakePowerShellHelp\\Get-Nugglet.ps1"
   ]
  }
 ],
 "metadata": {
  "kernelspec": {
   "display_name": ".NET (PowerShell)",
   "language": "PowerShell",
   "name": ".net-powershell"
  },
  "language_info": {
   "file_extension": ".ps1",
   "mimetype": "text/x-powershell",
   "name": "PowerShell",
   "pygments_lexer": "powershell",
   "version": "7.0"
  }
 },
 "nbformat": 4,
 "nbformat_minor": 4
}
