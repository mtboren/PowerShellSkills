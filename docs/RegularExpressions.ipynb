{
 "cells": [
  {
   "attachments": {},
   "cell_type": "markdown",
   "metadata": {
    "dotnet_interactive": {
     "language": "pwsh"
    },
    "polyglot_notebook": {
     "kernelName": "pwsh"
    }
   },
   "source": [
    "# Regular Expressions for strings\n",
    "## What Is It\n",
    "> A regular expression is a pattern used to match text. It can be made up of literal characters, operators, and other constructs.\n",
    "\n",
    "\\- from https://learn.microsoft.com/en-us/powershell/module/microsoft.powershell.core/about/about_regular_expressions\n",
    "\n",
    "## What Is It Not\n",
    "- wildcarding or globbing; `*.ps1` is an valid wildcard string, but an invalid regular expression pattern\n",
    "\n",
    "## When To Use\n",
    "- pattern matching for name / custom string\n",
    "    - ensure username / account name follows expected pattern\n",
    "    - filtering filesystem object names\n",
    "    - matching involving special characters (`n, for example)\n",
    "- substitutions\n",
    "    - string manipulation/replacement operations\n",
    "\n",
    "## When Not To Use\n",
    "- most any time else; some examples:\n",
    "    - IP address (use `[System.Net.IPAddress]`)\n",
    "    - email address (use `[System.Net.Mail.MailAddress]`)\n",
    "    - URL inspection (use `[System.Uri]`)\n",
    "    - data lookup (existing service? https://www.abstractapi.com/api/phone-validation-api, etc)\n",
    "    - rich object (non-string) comparison / management (native objects in the session, or created from serialized notations like JSON or YAML or XML or...))\n",
    "\n",
    "## Some Deets (How)\n",
    "- Character\n",
    "    - literals -- literal value of the character\n",
    "    - groups -- vowels `[aeiou]`, Ps and Qs `[pq]`\n",
    "    - ranges -- some digits `[3-9]`, some letters `[m-s]`\n",
    "    - classes -- digit `\\d`, word `\\w`, non-word `\\W`, whitespace `\\s`, non-whitespace `\\S`\n",
    "    - the \"any\" character: `.`\n",
    "- Quantifier\n",
    "    - `*` Zero or more times\n",
    "    - `+` One or more times\n",
    "    - `?` Zero or one time\n",
    "    - `{n}` Exactly `n` times\n",
    "    - `{n,m}` At least `n`, but no more than `m` times\n",
    "    - much more\n",
    "- Groups, Captures, and Substitutions\n",
    "- more in the docs!\n",
    "    - single line versus multiline matching\n",
    "    - greedy versus lazy quantifiers\n",
    "    - see .NET docs https://learn.microsoft.com/en-us/dotnet/standard/base-types/regular-expression-language-quick-reference\n",
    "\n",
    "## Examples\n",
    "### Use Regular Expressions\n",
    "#### Basics\n",
    "Some pattern matching, showing use of characters, classes, quantifiers, etc."
   ]
  },
  {
   "cell_type": "code",
   "execution_count": 80,
   "metadata": {
    "dotnet_interactive": {
     "language": "pwsh"
    },
    "polyglot_notebook": {
     "kernelName": "pwsh"
    },
    "vscode": {
     "languageId": "polyglot-notebook"
    }
   },
   "outputs": [
    {
     "name": "stdout",
     "output_type": "stream",
     "text": [
      "\n",
      "\u001b[32;1mExampleKind   InputText               Pattern       DoesMatch\u001b[0m\n",
      "\u001b[32;1m-----------   ---------               -------       ---------\u001b[0m\n",
      "Literal       Coolio                  oo                 True\n",
      "Literal       Coolio                  ll                False\n",
      "Whitespace    PowerShell for the win! \\s                 True\n",
      "Digit         Coolio                  \\d                False\n",
      "Any           187 Undercover Cop      .                  True\n",
      "Literal       Jupyter Notebook        \\.                False\n",
      "Quantifier    Jupyter Notebook        o{2}               True\n",
      "Group         Jupyter Notebook        [IRL]              True\n",
      "Range         Jupyter Notebook        [j-p]              True\n",
      "Range         187 Undercover Cop      [x-za-d]           True\n",
      "ClassGrouping 187 Undercover Cop      (\\w+)\\s            True\n",
      "Quantifiers   Coolio                  ((\\w+)\\s){2}      False\n",
      "Quantifiers   187 Undercover Cop      ((\\w+)\\s?){2}      True\n",
      "Quantifiers   Coolio                  ((\\w+)\\s){2,}     False\n",
      "AnchorNGroup  Coolio                  ^[a-c]             True\n",
      "\n"
     ]
    }
   ],
   "source": [
    "## some tests\n",
    "$arrInputText = Write-Output \"Coolio\" \"187 Undercover Cop\" \"PowerShell for the win!\" \"Apt. 213\" \"Jupyter Notebook\"\n",
    "([ordered]@{\n",
    "    \"oo\" = \"Literal\"\n",
    "    \"ll\" = \"Literal\"\n",
    "    \"\\s\" = \"Whitespace\"\n",
    "    \"\\d\" = \"Digit\"\n",
    "    \".\" = \"Any\"\n",
    "    \"\\.\" = \"Literal\"\n",
    "    \"o{2}\" = \"Quantifier\"\n",
    "    \"[IRL]\" = \"Group\"\n",
    "    \"[j-p]\" = \"Range\"\n",
    "    \"[x-za-d]\" = \"Range\"\n",
    "    \"(\\w+)\\s\" = \"ClassGrouping\"\n",
    "    \"((\\w+)\\s){2}\" = \"Quantifiers\"\n",
    "    \"((\\w+)\\s?){2}\" = \"Quantifiers\"\n",
    "    \"((\\w+)\\s){2,}\" = \"Quantifiers\"\n",
    "    \"^[a-c]\" = \"AnchorNGroup\"\n",
    "}).GetEnumerator() | Foreach-Object {\n",
    "    New-Object -Type PSObject -Property ([ordered]@{\n",
    "        ExampleKind = $_.Value\n",
    "        InputText = $strInputText = $arrInputText | Get-Random\n",
    "        Pattern = $_.Name\n",
    "        DoesMatch = $strInputText -match $_.Name\n",
    "    })\n",
    "}"
   ]
  },
  {
   "attachments": {},
   "cell_type": "markdown",
   "metadata": {
    "dotnet_interactive": {
     "language": "pwsh"
    },
    "polyglot_notebook": {
     "kernelName": "pwsh"
    }
   },
   "source": [
    "### Beyond Just `-match`\n",
    "Some things beyond just returning booleans for matching."
   ]
  },
  {
   "cell_type": "code",
   "execution_count": 70,
   "metadata": {
    "dotnet_interactive": {
     "language": "pwsh"
    },
    "polyglot_notebook": {
     "kernelName": "pwsh"
    },
    "vscode": {
     "languageId": "polyglot-notebook"
    }
   },
   "outputs": [
    {
     "name": "stdout",
     "output_type": "stream",
     "text": [
      "\n",
      "    Directory: C:\\temp\\GitThings\\PowerShellSkills\\docs\n",
      "\n",
      "\u001b[32;1mMode                 LastWriteTime         Length Name\u001b[0m\n",
      "\u001b[32;1m----                 -------------         ------ ----\u001b[0m\n",
      "d----            2/9/2021  6:22 PM                \u001b[44;1mexamples_MakePowerShellHelp\u001b[0m\n",
      "-a---           2/24/2021  6:24 PM           8383 MakePowerShellHelp_Examples.ipynb\n",
      "-a---           2/11/2021  8:18 AM           4549 MakePowerShellHelp.md\n",
      "-a---           3/24/2022  7:46 AM           2412 PowerShellFileTypes.md\n",
      "-a---           3/16/2022  8:52 PM           5456 PowerShellModules.md\n",
      "-a---           7/11/2022  2:25 PM          16546 PowerShellOutputStreamsAndTranscription.ipynb\n",
      "\n"
     ]
    }
   ],
   "source": [
    "## filtering filesystem object names:\n",
    "#    normal wildcard\n",
    "Get-ChildItem -Path *PowerShell*"
   ]
  },
  {
   "cell_type": "code",
   "execution_count": 71,
   "metadata": {
    "dotnet_interactive": {
     "language": "pwsh"
    },
    "polyglot_notebook": {
     "kernelName": "pwsh"
    },
    "vscode": {
     "languageId": "polyglot-notebook"
    }
   },
   "outputs": [
    {
     "name": "stdout",
     "output_type": "stream",
     "text": [
      "\n",
      "    Directory: C:\\temp\\GitThings\\PowerShellSkills\\docs\n",
      "\n",
      "\u001b[32;1mMode                 LastWriteTime         Length Name\u001b[0m\n",
      "\u001b[32;1m----                 -------------         ------ ----\u001b[0m\n",
      "-a---           3/24/2022  7:46 AM           2412 PowerShellFileTypes.md\n",
      "-a---           3/16/2022  8:52 PM           5456 PowerShellModules.md\n",
      "\n"
     ]
    }
   ],
   "source": [
    "## filtering filesystem object names:\n",
    "#    with regular expression character group _and_ wildcard (feature/behavior of PowerShell session); so, \"PowerShell\" followed by one of the characters in the group\n",
    "Get-ChildItem -Path *PowerShell[fm]*"
   ]
  },
  {
   "cell_type": "markdown",
   "metadata": {
    "dotnet_interactive": {
     "language": "pwsh"
    },
    "polyglot_notebook": {
     "kernelName": "pwsh"
    }
   },
   "source": [
    "\n",
    "\n",
    "### Use Other Solutions\n",
    "Some other things that, while have many times employed regular expressions, may be better suited by object models or standard APIs\n",
    "URL\n",
    "Email address\n",
    "IP Address\n",
    "Phone number\n"
   ]
  }
 ],
 "metadata": {
  "kernelspec": {
   "display_name": ".NET (C#)",
   "language": "C#",
   "name": ".net-csharp"
  },
  "polyglot_notebook": {
   "kernelInfo": {
    "defaultKernelName": "csharp",
    "items": [
     {
      "aliases": [],
      "name": "csharp"
     },
     {
      "aliases": [],
      "languageName": null,
      "name": ".NET"
     },
     {
      "aliases": [
       "frontend"
      ],
      "languageName": null,
      "name": "vscode"
     }
    ]
   }
  }
 },
 "nbformat": 4,
 "nbformat_minor": 2
}
