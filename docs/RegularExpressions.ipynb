{
 "cells": [
  {
   "cell_type": "markdown",
   "metadata": {
    "dotnet_interactive": {
     "language": "powershell"
    },
    "polyglot_notebook": {
     "kernelName": "powershell"
    }
   },
   "source": [
    "# Regular Expressions for strings\n",
    "## What Is It\n",
    "> A regular expression is a pattern used to match text. It can be made up of literal characters, operators, and other constructs.\n",
    "\n",
    "\\- from https://learn.microsoft.com/en-us/powershell/module/microsoft.powershell.core/about/about_regular_expressions\n",
    "\n",
    "## What Is It Not\n",
    "- wildcarding or globbing; `*.ps1` is an valid wildcard string, but an invalid regular expression pattern\n",
    "\n",
    "## When To Use\n",
    "- pattern matching for name / custom string\n",
    "    - ensure username / account name follows expected pattern\n",
    "    - filtering filesystem object names\n",
    "    - matching involving special characters (`n, for example)\n",
    "- substitutions\n",
    "    - string manipulation/replacement operations\n",
    "\n",
    "## When Not To Use\n",
    "- most any time else; some examples:\n",
    "    - IP address (use `[System.Net.IPAddress]`)\n",
    "    - email address (use `[System.Net.Mail.MailAddress]`)\n",
    "    - URL inspection (use `[System.Uri]`)\n",
    "    - data lookup (existing service? https://www.abstractapi.com/api/phone-validation-api, etc)\n",
    "    - rich object (non-string) comparison / management (native objects in the session, or created from serialized notations like JSON or YAML or XML or...))\n",
    "\n",
    "## Some Deets (How)\n",
    "- Character\n",
    "    - literals -- literal value of the character\n",
    "    - groups -- vowels `[aeiou]`, Ps and Qs `[pq]`\n",
    "    - ranges -- some digits `[3-9]`, some letters `[m-s]`\n",
    "    - classes -- digit `\\d`, word `\\w`, non-word `\\W`, whitespace `\\s`, non-whitespace `\\S`\n",
    "    - the \"any\" character: `.`\n",
    "- Quantifier\n",
    "    - `*` Zero or more times\n",
    "    - `+` One or more times\n",
    "    - `?` Zero or one time\n",
    "    - `{n}` Exactly `n` times\n",
    "    - `{n,m}` At least `n`, but no more than `m` times\n",
    "    - much more\n",
    "- Groups, Captures, and Substitutions\n",
    "    - like butterflies or Pokémon -- gotta capture 'em sometimes for later enjoyment\n",
    "- more in the docs!\n",
    "    - single line versus multiline matching\n",
    "    - greedy versus lazy quantifiers\n",
    "    - see .NET docs https://learn.microsoft.com/en-us/dotnet/standard/base-types/regular-expression-language-quick-reference\n",
    "\n",
    "## Examples\n",
    "### Use Regular Expressions\n",
    "#### Basics\n",
    "Some pattern matching, showing use of characters, classes, quantifiers, etc."
   ]
  },
  {
   "cell_type": "code",
   "execution_count": 38,
   "metadata": {
    "dotnet_interactive": {
     "language": "powershell"
    },
    "polyglot_notebook": {
     "kernelName": "powershell"
    },
    "tags": [],
    "vscode": {
     "languageId": "powershell"
    }
   },
   "outputs": [
    {
     "name": "stdout",
     "output_type": "stream",
     "text": [
      "\n",
      "\u001b[32;1mExampleKind    InputObject             Pattern       DoesMatch\u001b[0m\n",
      "\u001b[32;1m-----------    -----------             -------       ---------\u001b[0m\n",
      "Literal        Jupyter Notebook        oo                 True\n",
      "Literal        187 Undercover Cop      ll                False\n",
      "Whitespace     Jupyter Notebook        \\s                 True\n",
      "Digit          Coolio                  \\d                False\n",
      "Any            Jupyter Notebook        .                  True\n",
      "Literal        Coolio                  \\.                False\n",
      "Quantifier     Coolio                  o{2}               True\n",
      "CharacterGroup PowerShell for the win! [IRL]              True\n",
      "Range          Jupyter Notebook        [j-p]              True\n",
      "Range          Coolio                  [x-za-d]           True\n",
      "Class          Coolio                  \\w\\s              False\n",
      "Quantifiers    Coolio                  ((\\w+)\\s){2}      False\n",
      "Quantifiers    Apt. 213                ((\\w+)\\s?){2}      True\n",
      "Quantifiers    187 Undercover Cop      ((\\w+)\\s){2,}      True\n",
      "AnchorNGroup   187 Undercover Cop      ^[a-c]            False\n",
      "\n"
     ]
    }
   ],
   "source": [
    "## some tests\n",
    "$arrInputText = Write-Output \"Coolio\" \"187 Undercover Cop\" \"PowerShell for the win!\" \"Apt. 213\" \"Jupyter Notebook\"\n",
    "([ordered]@{\n",
    "    \"oo\" = \"Literal\"\n",
    "    \"ll\" = \"Literal\"\n",
    "    \"\\s\" = \"Whitespace\"\n",
    "    \"\\d\" = \"Digit\"\n",
    "    \".\" = \"Any\"\n",
    "    \"\\.\" = \"Literal\"\n",
    "    \"o{2}\" = \"Quantifier\"\n",
    "    \"[IRL]\" = \"CharacterGroup\"\n",
    "    \"[j-p]\" = \"Range\"\n",
    "    \"[x-za-d]\" = \"Range\"\n",
    "    \"\\w\\s\" = \"Class\"\n",
    "    \"((\\w+)\\s){2}\" = \"Quantifiers\"\n",
    "    \"((\\w+)\\s?){2}\" = \"Quantifiers\"\n",
    "    \"((\\w+)\\s){2,}\" = \"Quantifiers\"\n",
    "    \"^[a-c]\" = \"AnchorNGroup\"\n",
    "}).GetEnumerator() | Foreach-Object {\n",
    "    New-Object -Type PSObject -Property ([ordered]@{\n",
    "        ExampleKind = $_.Value\n",
    "        InputObject = $strInputText = $arrInputText | Get-Random\n",
    "        Pattern = $_.Name\n",
    "        DoesMatch = $strInputText -match $_.Name\n",
    "    })\n",
    "}"
   ]
  },
  {
   "cell_type": "markdown",
   "metadata": {
    "dotnet_interactive": {
     "language": "powershell"
    },
    "polyglot_notebook": {
     "kernelName": "powershell"
    }
   },
   "source": [
    "### Beyond Booleans\n",
    "Some things beyond just returning booleans for matching."
   ]
  },
  {
   "cell_type": "code",
   "execution_count": 28,
   "metadata": {
    "dotnet_interactive": {
     "language": "powershell"
    },
    "polyglot_notebook": {
     "kernelName": "powershell"
    },
    "vscode": {
     "languageId": "powershell"
    }
   },
   "outputs": [
    {
     "name": "stdout",
     "output_type": "stream",
     "text": [
      "\n",
      "    Directory: C:\\temp\\GitThings\\PowerShellSkills\\docs\n",
      "\n",
      "\u001b[32;1mMode                 LastWriteTime         Length Name\u001b[0m\n",
      "\u001b[32;1m----                 -------------         ------ ----\u001b[0m\n",
      "-a---           3/24/2022  7:46 AM           2412 PowerShellFileTypes.md\n",
      "-a---           3/16/2022  8:52 PM           5456 PowerShellModules.md\n",
      "-a---           7/11/2022  2:25 PM          16546 PowerShellOutputStreamsAndTranscription.ipynb\n",
      "\n"
     ]
    }
   ],
   "source": [
    "## filtering filesystem object names:\n",
    "#    normal wildcard\n",
    "Get-ChildItem -Path PowerShell*"
   ]
  },
  {
   "cell_type": "code",
   "execution_count": 30,
   "metadata": {
    "dotnet_interactive": {
     "language": "powershell"
    },
    "polyglot_notebook": {
     "kernelName": "powershell"
    },
    "vscode": {
     "languageId": "powershell"
    }
   },
   "outputs": [
    {
     "name": "stdout",
     "output_type": "stream",
     "text": [
      "\n",
      "    Directory: C:\\temp\\GitThings\\PowerShellSkills\\docs\n",
      "\n",
      "\u001b[32;1mMode                 LastWriteTime         Length Name\u001b[0m\n",
      "\u001b[32;1m----                 -------------         ------ ----\u001b[0m\n",
      "-a---           3/24/2022  7:46 AM           2412 PowerShellFileTypes.md\n",
      "-a---           7/11/2022  2:25 PM          16546 PowerShellOutputStreamsAndTranscription.ipynb\n",
      "\n"
     ]
    }
   ],
   "source": [
    "## filtering filesystem object names:\n",
    "#    with regular expression character group _and_ wildcard (feature/behavior of PowerShell session); so, \"PowerShell\" followed by one of the characters in the group\n",
    "Get-ChildItem -Path PowerShell[fo]*"
   ]
  },
  {
   "cell_type": "markdown",
   "metadata": {
    "dotnet_interactive": {
     "language": "powershell"
    },
    "polyglot_notebook": {
     "kernelName": "powershell"
    },
    "tags": []
   },
   "source": [
    "### Grouping and Captures\n",
    "If our source of data is some paragraph of non-structured blah that someone transcribed from microfiche and we absolutely have to try to mine data out of it, we may employ some of the other constructs of Regular Expressions like [Grouping Captures](https://learn.microsoft.com/en-us/dotnet/standard/base-types/grouping-constructs-in-regular-expressionshttps://learn.microsoft.com/en-us/dotnet/standard/base-types/grouping-constructs-in-regular-expressions).\n",
    "\n",
    "The gist:  we can use a Grouping construct to \"capture\" for later reference particuar parts of the input text.  Some examples:"
   ]
  },
  {
   "cell_type": "code",
   "execution_count": 43,
   "metadata": {
    "tags": []
   },
   "outputs": [
    {
     "name": "stdout",
     "output_type": "stream",
     "text": [
      "\n",
      "\u001b[32;1mGroups    : \u001b[0m{0, topic, answer}\n",
      "\u001b[32;1mSuccess   : \u001b[0mTrue\n",
      "\u001b[32;1mName      : \u001b[0m0\n",
      "\u001b[32;1mCaptures  : \u001b[0m{0}\n",
      "\u001b[32;1mIndex     : \u001b[0m0\n",
      "\u001b[32;1mLength    : \u001b[0m24\n",
      "\u001b[32;1mValue     : \u001b[0mWho is it? Bobby Batches\n",
      "\u001b[32;1mValueSpan : \u001b[0m\n",
      "\n",
      "\u001b[32;1mGroups    : \u001b[0m{0, topic, answer}\n",
      "\u001b[32;1mSuccess   : \u001b[0mTrue\n",
      "\u001b[32;1mName      : \u001b[0m0\n",
      "\u001b[32;1mCaptures  : \u001b[0m{0}\n",
      "\u001b[32;1mIndex     : \u001b[0m25\n",
      "\u001b[32;1mLength    : \u001b[0m37\n",
      "\u001b[32;1mValue     : \u001b[0mWhat they do? Cornstruction Worker 🌽\n",
      "\u001b[32;1mValueSpan : \u001b[0m\n",
      "\n",
      "\u001b[32;1mGroups    : \u001b[0m{0, topic, answer}\n",
      "\u001b[32;1mSuccess   : \u001b[0mTrue\n",
      "\u001b[32;1mName      : \u001b[0m0\n",
      "\u001b[32;1mCaptures  : \u001b[0m{0}\n",
      "\u001b[32;1mIndex     : \u001b[0m63\n",
      "\u001b[32;1mLength    : \u001b[0m24\n",
      "\u001b[32;1mValue     : \u001b[0mWhen hired? Jan 22, 1999\n",
      "\u001b[32;1mValueSpan : \u001b[0m\n",
      "\n",
      "\u001b[93mVERBOSE: Let's see just one named capture group\u001b[0m\n",
      "\u001b[32;1mSuccess   : \u001b[0mTrue\n",
      "\u001b[32;1mName      : \u001b[0mtopic\n",
      "\u001b[32;1mCaptures  : \u001b[0m{topic}\n",
      "\u001b[32;1mIndex     : \u001b[0m0\n",
      "\u001b[32;1mLength    : \u001b[0m9\n",
      "\u001b[32;1mValue     : \u001b[0mWho is it\n",
      "\u001b[32;1mValueSpan : \u001b[0m\n",
      "\n",
      "\u001b[93mVERBOSE: And, trying to make a reusable object for later goodness\u001b[0m\n",
      "\n",
      "\n",
      "\u001b[32;1mName         Value\u001b[0m\n",
      "\u001b[32;1m----         -----\u001b[0m\n",
      "Who is it    Bobby Batches\n",
      "What they do Cornstruction Worker 🌽\n",
      "When hired   Jan 22, 1999\n",
      "\n"
     ]
    }
   ],
   "source": [
    "## some unstructured data from which we'll try to mine some data, porcelain style (all fragile)\n",
    "$strMyMessyInput = @\"\n",
    "Who is it? Bobby Batches\n",
    "What they do? Cornstruction Worker 🌽\n",
    "When hired? Jan 22, 1999\n",
    "\"@\n",
    "\n",
    "$arrMatches = [System.Text.RegularExpressions.Regex]::Matches($strMyMessyInput, \"^(?<topic>[^\\?]+)\\?\\s+(?<answer>.+)$\", [System.Text.RegularExpressions.RegexOptions]::Multiline)\n",
    "## just return the match objects\n",
    "$arrMatches\n",
    "Write-Verbose -Verbose \"Let's see just one named capture group\"\n",
    "($arrMatches | Select-Object -First 1).Groups[\"topic\"]\n",
    "\n",
    "## try to mine some data from the named capture groups\n",
    "Write-Verbose -Verbose \"And, trying to make a reusable object for later goodness\"\n",
    "$arrMatches | Foreach-Object -Begin {$hshTmpProperties = [ordered]@{}} -Process {\n",
    "    $hshTmpProperties[$_.Groups[\"topic\"].Value] = $_.Groups[\"answer\"].Value\n",
    "}\n",
    "$hshTmpProperties | Format-Table -AutoSize\n"
   ]
  },
  {
   "cell_type": "code",
   "execution_count": 26,
   "metadata": {
    "tags": []
   },
   "outputs": [
    {
     "name": "stdout",
     "output_type": "stream",
     "text": [
      "\n",
      "\u001b[32;1mName                           Value\u001b[0m\n",
      "\u001b[32;1m----                           -----\u001b[0m\n",
      "Who is it                      Bobby Batches\n",
      "What they do                   Cornstruction Worker 🌽\n",
      "When hired                     Jan 22, 1999\n",
      "\n"
     ]
    }
   ],
   "source": [
    "## or, see how we can solve in another way, w/o getting to party w RegEx mysteries\n",
    "$strMyMessyInput | ConvertFrom-StringData -Delimiter ?"
   ]
  },
  {
   "cell_type": "markdown",
   "metadata": {
    "dotnet_interactive": {
     "language": "powershell"
    },
    "polyglot_notebook": {
     "kernelName": "powershell"
    }
   },
   "source": [
    "### Use Other Solutions\n",
    "Some other things that, while have many times employed regular expressions, may be better suited by object models or standard APIs. The first few examples here leverage the existing .NET object model, and methods of corresponding objects to essentially validate if a value is legitimate for the given object type:\n",
    "\n",
    "#### URI (Uniform Resource Identifier), of which URLs are a subset apparently"
   ]
  },
  {
   "cell_type": "code",
   "execution_count": 51,
   "metadata": {
    "tags": []
   },
   "outputs": [
    {
     "name": "stdout",
     "output_type": "stream",
     "text": [
      "\n",
      "\u001b[32;1mInputObject                                         IsWellFormedURI\u001b[0m\n",
      "\u001b[32;1m-----------                                         ---------------\u001b[0m\n",
      "https://coolstuff.com                                          True\n",
      "http:\\\\blahh.com                                              False\n",
      "https://github.com/vNugglets/?repoName=vDNetworking            True\n",
      "/blahh/moreGoodness                                            True\n",
      "gopher://old.timey.gopher.server.com/mySchtuff                 True\n",
      "\n"
     ]
    }
   ],
   "source": [
    "## check to see if a value is a legit URI\n",
    "Write-Output https://coolstuff.com http:\\\\blahh.com https://github.com/vNugglets/?repoName=vDNetworking /blahh/moreGoodness gopher://old.timey.gopher.server.com/mySchtuff | Foreach-Object {\n",
    "    New-Object -Type PSObject -Property ([ordered]@{\n",
    "        InputObject = $_\n",
    "        IsWellFormedURI = [System.Uri]::IsWellFormedUriString($_, [System.UriKind]::RelativeOrAbsolute)\n",
    "    })\n",
    "}"
   ]
  },
  {
   "cell_type": "code",
   "execution_count": 67,
   "metadata": {
    "tags": []
   },
   "outputs": [
    {
     "name": "stdout",
     "output_type": "stream",
     "text": [
      "\n",
      "\u001b[32;1mInputObject                                         Valid DnsSafeHost AbsolutePath\u001b[0m\n",
      "\u001b[32;1m-----------                                         ----- ----------- ------------\u001b[0m\n",
      "https://blah.com                                     True blah.com    /\n",
      "https:metalmayhem.com/rock                          False             \n",
      "https://mylullz.com/😹                               True mylullz.com /%F0%9F%98%B9\n",
      "https://github.com/vNugglets/?repoName=vDNetworking  True github.com  /vNugglets/\n",
      "\n"
     ]
    }
   ],
   "source": [
    "## use the subsequent rich object for accessing particular properties of the given object\n",
    "$oSomeUri = $null ## var into which to put new URI object if success\n",
    "Write-Output https://blah.com https:metalmayhem.com/rock https://mylullz.com/😹 https://github.com/vNugglets/?repoName=vDNetworking | Foreach-Object {\n",
    "    New-Object -Type PSObject -Property ([ordered]@{\n",
    "        InputObject = $_\n",
    "        Valid = [System.Uri]::TryCreate($_, [System.UriKind]::Absolute, [ref]$oSomeUri)\n",
    "        DnsSafeHost = $oSomeUri.DnsSafeHost\n",
    "        AbsolutePath = $oSomeUri.AbsolutePath\n",
    "    })\n",
    "}"
   ]
  },
  {
   "cell_type": "code",
   "execution_count": 65,
   "metadata": {
    "tags": []
   },
   "outputs": [
    {
     "name": "stdout",
     "output_type": "stream",
     "text": [
      "\n",
      "\u001b[32;1mName                           Value\u001b[0m\n",
      "\u001b[32;1m----                           -----\u001b[0m\n",
      "repoName                       vDNetworking\n",
      "lastCommit                     20221225\n",
      "\n"
     ]
    }
   ],
   "source": [
    "## and, can use the objects to make other rich objects, vs. RegEx \"fun\"\n",
    "([System.Uri]\"https://github.com/vNugglets/?repoName=vDNetworking&lastCommit=20221225\").Query.Trim(\"?\").Split(\"&\") | ConvertFrom-StringData"
   ]
  },
  {
   "cell_type": "markdown",
   "metadata": {
    "dotnet_interactive": {
     "language": "powershell"
    },
    "polyglot_notebook": {
     "kernelName": "powershell"
    }
   },
   "source": [
    "#### Email address\n",
    "There's a class for that!"
   ]
  },
  {
   "cell_type": "code",
   "execution_count": 86,
   "metadata": {
    "tags": []
   },
   "outputs": [
    {
     "name": "stdout",
     "output_type": "stream",
     "text": [
      "\n",
      "\u001b[32;1mInputObject : \u001b[0mdickie@pants.com\n",
      "\u001b[32;1mValid       : \u001b[0mTrue\n",
      "\u001b[32;1mUser        : \u001b[0mdickie\n",
      "\u001b[32;1mHost        : \u001b[0mpants.com\n",
      "\u001b[32;1mValidHost   : \u001b[0mTrue\n",
      "\n",
      "\u001b[32;1mInputObject : \u001b[0mk.windstein@none@heavier.com\n",
      "\u001b[32;1mValid       : \u001b[0mFalse\n",
      "\u001b[32;1mUser        : \u001b[0m\n",
      "\u001b[32;1mHost        : \u001b[0m\n",
      "\u001b[32;1mValidHost   : \u001b[0mFalse\n",
      "\n",
      "\u001b[32;1mInputObject : \u001b[0monramp@pshellsummit.org\n",
      "\u001b[32;1mValid       : \u001b[0mTrue\n",
      "\u001b[32;1mUser        : \u001b[0monramp\n",
      "\u001b[32;1mHost        : \u001b[0mpshellsummit.org\n",
      "\u001b[32;1mValidHost   : \u001b[0mFalse\n",
      "\n",
      "\n"
     ]
    }
   ],
   "source": [
    "## see if these are of legit email address format\n",
    "$oSomeEmailAddr = $null\n",
    "Write-Output dickie@pants.com k.windstein@none@heavier.com onramp@pshellsummit.org | Foreach-Object {\n",
    "    New-Object -Type PSObject -Property ([ordered]@{\n",
    "        InputObject = $_\n",
    "        Valid = [System.Net.Mail.MailAddress]::TryCreate($_, [ref]$oSomeEmailAddr)\n",
    "        User = $oSomeEmailAddr.User\n",
    "        Host = $oSomeEmailAddr.Host\n",
    "        ValidHost = if ($oSomeEmailAddr) {$null -ne $(try {Resolve-DnsName -Name $oSomeEmailAddr.Host -ErrorAction:Stop} catch {})} else {$false}\n",
    "    })\n",
    "}"
   ]
  },
  {
   "cell_type": "markdown",
   "metadata": {
    "dotnet_interactive": {
     "language": "powershell"
    },
    "polyglot_notebook": {
     "kernelName": "powershell"
    }
   },
   "source": [
    "#### IP Address\n",
    "And, we know, there's a class for that, too. No need to mess w `/([0-2]\\d{1,2}\\.)?(\\d{1,3}\\.?){3}/`, \"oh, wait, that allows 291.333.333.333, now what, oh wait, that's also only IPv4\" hassle.."
   ]
  },
  {
   "cell_type": "code",
   "execution_count": 95,
   "metadata": {
    "tags": []
   },
   "outputs": [
    {
     "name": "stdout",
     "output_type": "stream",
     "text": [
      "\n",
      "\u001b[32;1mInputObject      Valid  AddressFamily IPAddressToString\u001b[0m\n",
      "\u001b[32;1m-----------      -----  ------------- -----------------\u001b[0m\n",
      "10.2.3.4          True   InterNetwork 10.2.3.4\n",
      "10.0.0.254        True   InterNetwork 10.0.0.254\n",
      "10.0.0.255        True   InterNetwork 10.0.0.255\n",
      "10.0.0.256       False                \n",
      "40.37             True   InterNetwork 40.0.0.37\n",
      "172.3.3           True   InterNetwork 172.3.0.3\n",
      "fec0:0:0:ffff::1  True InterNetworkV6 fec0:0:0:ffff::1\n",
      "\n"
     ]
    }
   ],
   "source": [
    "## see if these are of IP address format; \n",
    "$oSomeIPAddr = $null\n",
    "\n",
    "Write-Output 10.2.3.4 (254..256 | Foreach-Object {\"10.0.0.$_\"}) 40.37 172.3.3 fec0:0:0:ffff::1 | Foreach-Object {$_} | Foreach-Object {\n",
    "    New-Object -Type PSObject -Property ([ordered]@{\n",
    "        InputObject = $_\n",
    "        Valid = [System.Net.IpAddress]::TryParse($_, [ref]$oSomeIPAddr)\n",
    "        AddressFamily = $oSomeIPAddr.AddressFamily\n",
    "        IPAddressToString = $oSomeIPAddr.IPAddressToString\n",
    "    })\n",
    "}"
   ]
  },
  {
   "cell_type": "markdown",
   "metadata": {
    "dotnet_interactive": {
     "language": "powershell"
    },
    "polyglot_notebook": {
     "kernelName": "powershell"
    }
   },
   "source": [
    "#### Phone number\n",
    "Leverage goodness already developed and supported, vs trying to create from scratch!  How: use an API for it! This example uses the free API service from abstractapi.com"
   ]
  },
  {
   "cell_type": "code",
   "execution_count": 4,
   "metadata": {
    "tags": []
   },
   "outputs": [
    {
     "name": "stdout",
     "output_type": "stream",
     "text": [
      "\n",
      "\u001b[32;1mphone    : \u001b[0m13172776666\n",
      "\u001b[32;1mvalid    : \u001b[0mTrue\n",
      "\u001b[32;1mformat   : \u001b[0m@{international=+13172776666; local=(317) 277-6666}\n",
      "\u001b[32;1mcountry  : \u001b[0m@{code=US; name=United States; prefix=+1}\n",
      "\u001b[32;1mlocation : \u001b[0mIndiana\n",
      "\u001b[32;1mtype     : \u001b[0munknown\n",
      "\u001b[32;1mcarrier  : \u001b[0m\n",
      "\n",
      "\u001b[93mVERBOSE: d'oh, exceeded API request rate; sleepy time\u001b[0m\n",
      "\u001b[32;1mphone    : \u001b[0m1 (800) 266-8228\n",
      "\u001b[32;1mvalid    : \u001b[0mTrue\n",
      "\u001b[32;1mformat   : \u001b[0m@{international=+18002668228; local=(800) 266-8228}\n",
      "\u001b[32;1mcountry  : \u001b[0m@{code=US; name=United States; prefix=+1}\n",
      "\u001b[32;1mlocation : \u001b[0m\n",
      "\u001b[32;1mtype     : \u001b[0mtoll free\n",
      "\u001b[32;1mcarrier  : \u001b[0m\n",
      "\n",
      "\u001b[93mVERBOSE: d'oh, exceeded API request rate; sleepy time\u001b[0m\n",
      "\u001b[32;1mphone    : \u001b[0m1900TParkBoys\n",
      "\u001b[32;1mvalid    : \u001b[0mFalse\n",
      "\u001b[32;1mformat   : \u001b[0m@{international=; local=}\n",
      "\u001b[32;1mcountry  : \u001b[0m@{name=; code=; prefix=}\n",
      "\u001b[32;1mlocation : \u001b[0m\n",
      "\u001b[32;1mtype     : \u001b[0m\n",
      "\u001b[32;1mcarrier  : \u001b[0m\n",
      "\n",
      "\n"
     ]
    }
   ],
   "source": [
    "$oInvokeRestMethodParams = @{Uri = \"https://phonevalidation.abstractapi.com/v1/\"; Method = \"Get\"; Body = @{api_key = \"MyApiKeyHere\"}}\n",
    "Write-Output 13172776666 \"1 (800) 266-8228\" 1900TParkBoys | Foreach-Object {\n",
    "    $oInvokeRestMethodParams.Body[\"phone\"] = $_\n",
    "    # Invoke-RestMethod @oInvokeRestMethodParams\n",
    "    while (-not ($oPhoneInfo = try {Invoke-RestMethod @oInvokeRestMethodParams} catch {})) {Write-Verbose -Verbose \"d'oh, exceeded API request rate; sleepy time\"; Start-Sleep -Seconds 1}\n",
    "    $oPhoneInfo\n",
    "}"
   ]
  }
 ],
 "metadata": {
  "kernelspec": {
   "display_name": ".NET (PowerShell)",
   "language": "PowerShell",
   "name": ".net-powershell"
  },
  "language_info": {
   "file_extension": ".ps1",
   "mimetype": "text/x-powershell",
   "name": "PowerShell",
   "pygments_lexer": "powershell",
   "version": "7.0"
  },
  "polyglot_notebook": {
   "kernelInfo": {
    "defaultKernelName": "csharp",
    "items": [
     {
      "aliases": [],
      "name": "csharp"
     },
     {
      "aliases": [],
      "languageName": null,
      "name": ".NET"
     },
     {
      "aliases": [
       "frontend"
      ],
      "languageName": null,
      "name": "vscode"
     }
    ]
   }
  }
 },
 "nbformat": 4,
 "nbformat_minor": 4
}
