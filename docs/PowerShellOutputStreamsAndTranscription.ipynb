{
 "cells": [
  {
   "cell_type": "markdown",
   "metadata": {},
   "source": [
    "# PowerShell Output Streams, Transcripts for Logging\n",
    "Some information about providing history, insights, and artifacts for posterity:  returning reusable objects, and writing informational messages to existing PowerShell output streams\n",
    "\n",
    "## What\n",
    "Consumers of our code need understand outcomes, and to know what is the progress / success / failure of the code\n",
    "\n",
    "## How\n",
    "PowerShell provides standard ways to provide such outcomes (in the form of rich objects with pertinent properties) and to provide human-readable output streams, as well\n",
    "- Outcomes: by providing outcomes in object form, we not only inform customer understanding of actions taken, but also enable subsequent value for use cases like reporting, summation, \"undo\", etc\n",
    "- Output streams: PowerShell provides for writing human-targeted text items to places like the PowerShell console and eventually to a transcript file for when a consumer desires to capture such \"story\" info for posterity. Example:  We can employ the following cmdlets for writing human-readable messages to the various output streams: `Write-Verbose`, `Write-Warning`, `Write-Information`\n",
    "\n",
    "## What this enables (and avoids)\n",
    "- Standardization: using same patterns / practices that we use in the rest of our PowerShell world leads to success with minimal additional effort (`Start-Transcript` for log file creation, [PowerShell output streams](https://docs.microsoft.com/en-us/powershell/module/microsoft.powershell.core/about/about_output_streams) for information messages like verbose, warning streams)\n",
    "- Parallelization: by using standard \"get/create objects\" approaches for outcomes and information streams for human-readable messaging, we are well positioned for when we want/need to explore optimization by employing parallel code execution (by avoiding any filesystem management problems altogether -- things that could become problems like file locks introduced with direct file manipulation)\n",
    "\n",
    "## Examples\n",
    "Some examples of emitting objects for further consumption _and_ writing informational / human-readable details to the appropriate PowerShell output streams\n",
    "\n",
    "The examples illustrate:\n",
    "- writing code that acts like any other PowerShell cmdlet with which we are all accustomed:  gets objects, does something with objects, emits objects\n",
    "    - emitting some reusable objects from actions taken, for subsequent use/re-use for other use cases (possibly ones not yet even imagined by the code author)\n",
    "    - this is represented by the code in the function `Remove-CoolUser.ps1`, which uses a \"helper\" script that, for the purposes of these examples, introduces success/failure results (`Remove-SomeCoolThing.ps1`)\n",
    "- writing human-focused \"story\" information to PowerShell output streams\n",
    "    - uses an \"enhanced\" function for prepending Verbose messages with a standardized, parseable timestamp (timestamp can be used to create rich `DateTime` object if ever needed)\n",
    "    - the \"enhanced\" function is in `Write-VerboseEnhanced.ps1`\n",
    "    - also uses the Warning stream (as leveraged in helper simulation script `Remove-SomeCoolThing.ps1`)\n",
    "- using a \"parent\" script for:\n",
    "    - orchestrating the invocation of the user removal\n",
    "    - leveraging inbuilt, standard \"create filesystem log artifact\" mechanism for logging the human-focused story bits (via `Start-Transcript`)\n",
    "    - and, serializing (\"stringifying\") rich objects for later reconsumption (converting to JSON, writing to file, emitting a corresponding `System.IO.FileInfo` PowerShell object)\n",
    "    - this is represented by the code in the function `Invoke-CoolUserRemoval.ps1`\n",
    "- follows well established usage patterns in PowerShell by which consumer can control verbosity level (via `-Verbose` parameter to main orchestration code)\n",
    "\n",
    "#### Writing code that acts like any other PowerShell cmdlet"
   ]
  },
  {
   "cell_type": "code",
   "execution_count": 5,
   "metadata": {
    "dotnet_interactive": {
     "language": "pwsh"
    },
    "vscode": {
     "languageId": "dotnet-interactive.pwsh"
    }
   },
   "outputs": [
    {
     "name": "stdout",
     "output_type": "stream",
     "text": [
      "\n",
      "\u001b[32;1mUser   Guid                                 RemovedSuccessfully RemovalDatetime\u001b[0m\n",
      "\u001b[32;1m----   ----                                 ------------------- ---------------\u001b[0m\n",
      "dickie d84b8828-2e6f-4f0d-a964-dfecc1134885                True 7/11/2022 1:37:41 PM\n",
      "roscoe 2ec67b7d-1a60-407b-8110-2dbc21aad5c3                True 7/11/2022 1:37:41 PM\n",
      "\n"
     ]
    }
   ],
   "source": [
    ".\\OutputStreamsAndLogging\\Remove-CoolUser.ps1 -User dickie, roscoe"
   ]
  },
  {
   "cell_type": "markdown",
   "metadata": {},
   "source": [
    "#### Writing human-focused \"story\" information to PowerShell output streams\n",
    "By leveraging the familiar `-Verbose` parameter, our information output streams now have the human-focused story, too (but, using the same code!)"
   ]
  },
  {
   "cell_type": "code",
   "execution_count": 19,
   "metadata": {
    "dotnet_interactive": {
     "language": "pwsh"
    },
    "vscode": {
     "languageId": "dotnet-interactive.pwsh"
    }
   },
   "outputs": [
    {
     "name": "stdout",
     "output_type": "stream",
     "text": [
      "VERBOSE: 2022-07-11T14:03:35.7630028-04:00 [Remove-CoolUser.ps1] Starting all the goodness\n",
      "VERBOSE: 2022-07-11T14:03:35.7762737-04:00 [Remove-CoolUser.ps1] Working on item 'dickie'\n",
      "VERBOSE: 2022-07-11T14:03:35.7886026-04:00 [Remove-CoolUser.ps1] Deleting user 'dickie' from some system\n",
      "VERBOSE: 2022-07-11T14:03:35.8237171-04:00 [Remove-SomeCoolThing.ps1] Removing cool thing 'dickie'\n",
      "\n",
      "VERBOSE: 2022-07-11T14:03:36.0920034-04:00 [Remove-CoolUser.ps1] Working on item 'roscoe'\n",
      "VERBOSE: 2022-07-11T14:03:36.1047535-04:00 [Remove-CoolUser.ps1] Deleting user 'roscoe' from some system\n",
      "VERBOSE: 2022-07-11T14:03:36.1333352-04:00 [Remove-SomeCoolThing.ps1] Removing cool thing 'roscoe'\n",
      "\u001b[32;1mUser   Guid                                 RemovedSuccessfully RemovalDatetime\u001b[0m\n",
      "\u001b[32;1m----   ----                                 ------------------- ---------------\u001b[0m\n",
      "dickie f03c6892-a01f-42a8-a9af-2a9a725587db                True 7/11/2022 2:03:36 PM\n",
      "roscoe 3da06c03-0320-4bcc-9649-c0c3c41c570b                True 7/11/2022 2:03:36 PM\n",
      "VERBOSE: 2022-07-11T14:03:36.4042652-04:00 [Remove-CoolUser.ps1] Done. Timespan for this run: '00:00:00.6419594'\n",
      "\n"
     ]
    }
   ],
   "source": [
    ".\\OutputStreamsAndLogging\\Remove-CoolUser.ps1 -User dickie, roscoe -Verbose"
   ]
  },
  {
   "cell_type": "markdown",
   "metadata": {},
   "source": [
    "#### Using a \"parent\" script for non-interactive invocation"
   ]
  },
  {
   "cell_type": "code",
   "execution_count": 20,
   "metadata": {
    "dotnet_interactive": {
     "language": "pwsh"
    },
    "vscode": {
     "languageId": "dotnet-interactive.pwsh"
    }
   },
   "outputs": [
    {
     "name": "stdout",
     "output_type": "stream",
     "text": [
      "\u001b[93mVERBOSE: Transcript started, output file is C:\\Users\\sweetPuter0\\Documents\\PowerShell_transcript.sweetPuter0.1bSIhY6E.20220711140652.txt\u001b[0m\n",
      "VERBOSE: 2022-07-11T14:06:52.9128816-04:00 [Remove-CoolUser.ps1] Starting all the goodness\n",
      "VERBOSE: 2022-07-11T14:06:52.9390162-04:00 [Remove-CoolUser.ps1] Working on item 'user1608'\n",
      "VERBOSE: 2022-07-11T14:06:52.9539286-04:00 [Remove-CoolUser.ps1] Deleting user 'user1608' from some system\n",
      "VERBOSE: 2022-07-11T14:06:52.9845775-04:00 [Remove-SomeCoolThing.ps1] Removing cool thing 'user1608'\n",
      "VERBOSE: 2022-07-11T14:06:53.2535155-04:00 [Remove-CoolUser.ps1] Working on item 'user1899'\n",
      "VERBOSE: 2022-07-11T14:06:53.2666033-04:00 [Remove-CoolUser.ps1] Deleting user 'user1899' from some system\n",
      "VERBOSE: 2022-07-11T14:06:53.2987742-04:00 [Remove-SomeCoolThing.ps1] Removing cool thing 'user1899'\n",
      "VERBOSE: 2022-07-11T14:06:53.5628046-04:00 [Remove-CoolUser.ps1] Working on item 'user1657'\n",
      "VERBOSE: 2022-07-11T14:06:53.5778149-04:00 [Remove-CoolUser.ps1] Deleting user 'user1657' from some system\n",
      "VERBOSE: 2022-07-11T14:06:53.6119775-04:00 [Remove-SomeCoolThing.ps1] Removing cool thing 'user1657'\n",
      "VERBOSE: 2022-07-11T14:06:53.8906598-04:00 [Remove-CoolUser.ps1] Working on item 'user1359'\n",
      "VERBOSE: 2022-07-11T14:06:53.9044444-04:00 [Remove-CoolUser.ps1] Deleting user 'user1359' from some system\n",
      "VERBOSE: 2022-07-11T14:06:53.9346515-04:00 [Remove-SomeCoolThing.ps1] Removing cool thing 'user1359'\n",
      "WARNING: [Remove-SomeCoolThing.ps1] D'oh! Failed to remove cool thing 'user1359'\n",
      "VERBOSE: 2022-07-11T14:06:54.2024349-04:00 [Remove-CoolUser.ps1] Working on item 'user1250'\n",
      "VERBOSE: 2022-07-11T14:06:54.2169107-04:00 [Remove-CoolUser.ps1] Deleting user 'user1250' from some system\n",
      "VERBOSE: 2022-07-11T14:06:54.2492776-04:00 [Remove-SomeCoolThing.ps1] Removing cool thing 'user1250'\n",
      "VERBOSE: 2022-07-11T14:06:54.5255608-04:00 [Remove-CoolUser.ps1] Working on item 'user1184'\n",
      "VERBOSE: 2022-07-11T14:06:54.5383867-04:00 [Remove-CoolUser.ps1] Deleting user 'user1184' from some system\n",
      "VERBOSE: 2022-07-11T14:06:54.5674234-04:00 [Remove-SomeCoolThing.ps1] Removing cool thing 'user1184'\n",
      "VERBOSE: 2022-07-11T14:06:54.8365943-04:00 [Remove-CoolUser.ps1] Working on item 'user1982'\n",
      "VERBOSE: 2022-07-11T14:06:54.8520417-04:00 [Remove-CoolUser.ps1] Deleting user 'user1982' from some system\n",
      "VERBOSE: 2022-07-11T14:06:54.8902894-04:00 [Remove-SomeCoolThing.ps1] Removing cool thing 'user1982'\n",
      "WARNING: [Remove-SomeCoolThing.ps1] D'oh! Failed to remove cool thing 'user1982'\n",
      "VERBOSE: 2022-07-11T14:06:55.1636922-04:00 [Remove-CoolUser.ps1] Working on item 'user1142'\n",
      "VERBOSE: 2022-07-11T14:06:55.1790030-04:00 [Remove-CoolUser.ps1] Deleting user 'user1142' from some system\n",
      "VERBOSE: 2022-07-11T14:06:55.2142480-04:00 [Remove-SomeCoolThing.ps1] Removing cool thing 'user1142'\n",
      "VERBOSE: 2022-07-11T14:06:55.4897342-04:00 [Remove-CoolUser.ps1] Working on item 'user1299'\n",
      "VERBOSE: 2022-07-11T14:06:55.5027107-04:00 [Remove-CoolUser.ps1] Deleting user 'user1299' from some system\n",
      "VERBOSE: 2022-07-11T14:06:55.5345946-04:00 [Remove-SomeCoolThing.ps1] Removing cool thing 'user1299'\n",
      "VERBOSE: 2022-07-11T14:06:55.7997524-04:00 [Remove-CoolUser.ps1] Working on item 'user1552'\n",
      "VERBOSE: 2022-07-11T14:06:55.8128223-04:00 [Remove-CoolUser.ps1] Deleting user 'user1552' from some system\n",
      "VERBOSE: 2022-07-11T14:06:55.8451486-04:00 [Remove-SomeCoolThing.ps1] Removing cool thing 'user1552'\n",
      "VERBOSE: 2022-07-11T14:06:56.1087853-04:00 [Remove-CoolUser.ps1] Done. Timespan for this run: '00:00:03.1969668'\n",
      "\u001b[93mVERBOSE: Finished doing the things. Serialized objects written to 'C:\\Users\\sweetPuter0\\AppData\\Local\\Temp\\deletedUsers-20220711T1406528848.json'\u001b[0m\n",
      "\n",
      "    Directory: C:\\Users\\sweetPuter0\\AppData\\Local\\Temp\n",
      "\n",
      "\u001b[32;1mMode                 LastWriteTime         Length Name\u001b[0m\n",
      "\u001b[32;1m----                 -------------         ------ ----\u001b[0m\n",
      "-a---           7/11/2022  2:06 PM           1833 deletedUsers-20220711T1406528848.json\n",
      "\u001b[93mVERBOSE: Transcript stopped, output file is C:\\Users\\sweetPuter0\\Documents\\PowerShell_transcript.sweetPuter0.1bSIhY6E.20220711140652.txt\u001b[0m\n",
      "\n"
     ]
    }
   ],
   "source": [
    ".\\OutputStreamsAndLogging\\Invoke-CoolUserRemoval.ps1 -Verbose -OutVariable oOutputFileinfo"
   ]
  },
  {
   "cell_type": "markdown",
   "metadata": {},
   "source": [
    "Here we reused the \"enhanced\" verbose function, leveraged the Warning output stream as well, and emitted the `FileInfo` object that shows the details of the JSON file in which the rich objects were serialized\n",
    "\n",
    "Then, we can use the FileInfo object (or just the full path to the emitted, serialized objects file) to subsequently do interesting stuff:"
   ]
  },
  {
   "cell_type": "code",
   "execution_count": 21,
   "metadata": {
    "dotnet_interactive": {
     "language": "pwsh"
    },
    "vscode": {
     "languageId": "dotnet-interactive.pwsh"
    }
   },
   "outputs": [
    {
     "name": "stdout",
     "output_type": "stream",
     "text": [
      "\n",
      "    Directory: C:\\Users\\sweetPuter0\\AppData\\Local\\Temp\n",
      "\n",
      "\u001b[32;1mMode                 LastWriteTime         Length Name\u001b[0m\n",
      "\u001b[32;1m----                 -------------         ------ ----\u001b[0m\n",
      "-a---           7/11/2022  2:06 PM           1833 deletedUsers-20220711T1406528848.json\n",
      "\n"
     ]
    }
   ],
   "source": [
    "## see the file\n",
    "Get-ChildItem $oOutputFileinfo"
   ]
  },
  {
   "cell_type": "code",
   "execution_count": 22,
   "metadata": {
    "dotnet_interactive": {
     "language": "pwsh"
    },
    "vscode": {
     "languageId": "dotnet-interactive.pwsh"
    }
   },
   "outputs": [
    {
     "name": "stdout",
     "output_type": "stream",
     "text": [
      "\n",
      "\u001b[32;1mUser     Guid                                 RemovedSuccessfully RemovalDatetime\u001b[0m\n",
      "\u001b[32;1m----     ----                                 ------------------- ---------------\u001b[0m\n",
      "user1608 e2cc5245-2f51-4c39-8ff8-6c0453e73f80                True 7/11/2022 2:06:53 PM\n",
      "user1899 ed6e0ee7-a230-4072-83b8-6dc1fa3752f0                True 7/11/2022 2:06:53 PM\n",
      "user1657 e77d39e2-2c49-4a93-96e5-4ed12a1535af                True 7/11/2022 2:06:53 PM\n",
      "user1359 a9941940-8b0c-4e5d-93d4-7486b669b0f5               False 7/11/2022 2:06:54 PM\n",
      "user1250 987d8085-b5fa-4905-a54a-3a1df0f08531                True 7/11/2022 2:06:54 PM\n",
      "user1184 de0d7e0d-864d-4d55-a6fd-eac9a7915309                True 7/11/2022 2:06:54 PM\n",
      "user1982 89d2a4b9-aba8-4c3e-ae78-ac62c7736282               False 7/11/2022 2:06:55 PM\n",
      "user1142 c83e4086-2486-4adc-9ea0-8de20cd3d3ea                True 7/11/2022 2:06:55 PM\n",
      "user1299 cf9ab935-1cea-425c-aa99-e960bfec408e                True 7/11/2022 2:06:55 PM\n",
      "user1552 ffb60438-bdd6-403c-a8de-bd5477f187a0                True 7/11/2022 2:06:56 PM\n",
      "\n"
     ]
    }
   ],
   "source": [
    "## \"rehydrate\" (deserialize) the objects\n",
    "Get-ChildItem $oOutputFileinfo | Get-Content | ConvertFrom-Json"
   ]
  },
  {
   "cell_type": "code",
   "execution_count": 26,
   "metadata": {
    "dotnet_interactive": {
     "language": "pwsh"
    },
    "vscode": {
     "languageId": "dotnet-interactive.pwsh"
    }
   },
   "outputs": [
    {
     "name": "stdout",
     "output_type": "stream",
     "text": [
      "\n",
      "\u001b[32;1mUser     Guid                                 RemovedSuccessfully RemovalDatetime\u001b[0m\n",
      "\u001b[32;1m----     ----                                 ------------------- ---------------\u001b[0m\n",
      "user1359 a9941940-8b0c-4e5d-93d4-7486b669b0f5               False 7/11/2022 2:06:54 PM\n",
      "user1982 89d2a4b9-aba8-4c3e-ae78-ac62c7736282               False 7/11/2022 2:06:55 PM\n",
      "\n"
     ]
    }
   ],
   "source": [
    "## do some filtering on the once again rich objects\n",
    "Get-ChildItem $oOutputFileinfo | Get-Content | ConvertFrom-Json | Where-Object -not RemovedSuccessfully"
   ]
  }
 ],
 "metadata": {
  "kernelspec": {
   "display_name": ".NET (PowerShell)",
   "language": "PowerShell",
   "name": ".net-powershell"
  },
  "language_info": {
   "file_extension": ".ps1",
   "mimetype": "text/x-powershell",
   "name": "PowerShell",
   "pygments_lexer": "powershell",
   "version": "7.0"
  }
 },
 "nbformat": 4,
 "nbformat_minor": 2
}
