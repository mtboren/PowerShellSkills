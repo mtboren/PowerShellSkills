{
 "cells": [
  {
   "cell_type": "markdown",
   "metadata": {},
   "source": [
    "# Testing with Pester"
   ]
  },
  {
   "cell_type": "markdown",
   "metadata": {},
   "source": [
    "**Table of contents**<a id='toc0_'></a>    \n",
    "- [Gist](#toc1_)    \n",
    "- [Test Scenarios](#toc2_)    \n",
    "  - [PowerShell Module](#toc2_1_)    \n",
    "  - [Lambda function](#toc2_2_)    \n",
    "- [Examples](#toc3_)    \n",
    "  - [Sample Output](#toc3_1_)    \n",
    "  - [Real World](#toc3_2_)    \n",
    "- [Further Reading](#toc4_)    \n",
    "\n",
    "<!-- vscode-jupyter-toc-config\n",
    "\tnumbering=false\n",
    "\tanchor=true\n",
    "\tflat=false\n",
    "\tminLevel=2\n",
    "\tmaxLevel=3\n",
    "\t/vscode-jupyter-toc-config -->\n",
    "<!-- THIS CELL WILL BE REPLACED ON TOC UPDATE. DO NOT WRITE YOUR TEXT IN THIS CELL -->"
   ]
  },
  {
   "cell_type": "markdown",
   "metadata": {},
   "source": [
    "## <a id='toc1_'></a>[Gist](#toc0_)\n",
    "- What: we want to be sure that our code provides the expected behavior\n",
    "- How: we write cases that test the given scenarios\n",
    "- Why use framework? Re-use (vs. rewriting our own test framework), along with embracing some other testing (and development) approaches that contribute to consistently higher quality code that meets clearly defined requirements\n",
    "\n",
    "By defining the expected outcome logic as test cases, we can easily and consistently confirm that our code provides the expected results. We can incorporate tests in various points of our developemnt, though it often occurs \"later\". There is an approach that involves writing our tests _first_, then our code: [Test Driven Development](https://en.wikipedia.org/wiki/Test-driven_development) (\"TDD\").\n",
    "\n",
    "Many languages have test frameworks for such testing. In PowerShell, the de facto framework is [Pester](https://pester.dev/) (made available as a PowerShell module).\n",
    "\n",
    "Pester is a [Behavior-Driven Development](https://en.wikipedia.org/wiki/Behavior-driven_development) (\"BDD\") based testing framework. It \"emerged\" from TDD. Often, BDD helps us focus on the \"plain language\" description of the feature / use case, and the testing syntax reflects such things.  For example:\n",
    "```powershell\n",
    "## plain-er language test case\n",
    "$theObjectReturned | Should -BeOfType System.Uri\n",
    "```\n",
    "    \n",
    "## <a id='toc2_'></a>[Test Scenarios](#toc0_)\n",
    "Some example use cases of testing things for our code:\n",
    "\n",
    "### <a id='toc2_1_'></a>[PowerShell Module](#toc0_)\n",
    "- that functions all have help\n",
    "- that there is an `about_ThisModule` kind of help topic\n",
    "- that particular functions:\n",
    "    - return expected object type (and _only_ that type)\n",
    "    - throw an error upon receiving certain inputs (or lack thereof)\n",
    "    - act upon given objects as expected (removes such an object from a system)\n",
    "\n",
    "### <a id='toc2_2_'></a>[Lambda function](#toc0_)\n",
    "- that a function even \"runs successfully\" (say, as indicated by an HTTP response of 200, and there is some invocation log entries)\n",
    "- that a function gets some expected data for a known timeframe\n",
    "- that the function accepts input for use in data archival\n",
    "\n",
    "## <a id='toc3_'></a>[Examples](#toc0_)\n",
    "### <a id='toc3_1_'></a>[Sample Output](#toc0_)\n",
    "An example of Pester output (based on tests by JBrown, link below):\n"
   ]
  },
  {
   "cell_type": "code",
   "execution_count": 2,
   "metadata": {
    "vscode": {
     "languageId": "powershell"
    }
   },
   "outputs": [
    {
     "name": "stdout",
     "output_type": "stream",
     "text": [
      "\u001b[95mPester v5.4.1\u001b[0m\n",
      "\u001b[95m\n",
      "\u001b[95mStarting discovery in 1 files.\u001b[0m\n"
     ]
    },
    {
     "name": "stdout",
     "output_type": "stream",
     "text": [
      "\u001b[95mDiscovery found 8 tests in 72ms.\u001b[0m\n",
      "\u001b[95mRunning tests.\u001b[0m\n",
      "\u001b[95m\n",
      "\u001b[95mRunning tests from 'PowerShellSkills\\docs\\TestingWithPester\\PSSomethingModule.Tests.ps1'\u001b[0m\n",
      "\u001b[92mDescribing Function 'Get-Something'\u001b[0m\n",
      "\u001b[96m Context verify module has defined functions\u001b[0m\n",
      "\u001b[32m   [+] should have a 'Get-Something' function\u001b[0m\u001b[90m 21ms (19ms|2ms)\u001b[0m\n",
      "\u001b[96m Context testing parameter ThingToGet\u001b[0m\n",
      "\u001b[32m   [+] should have a parameter named ThingToGet with various attributes\u001b[0m\u001b[90m 11ms (9ms|1ms)\u001b[0m\n",
      "\u001b[96m Context when parameter ThingToGet is not used\u001b[0m\n",
      "\u001b[32m   [+] should return 'I got something!'\u001b[0m\u001b[90m 13ms (11ms|1ms)\u001b[0m\n",
      "\u001b[32m   [+] should be a string object\u001b[0m\u001b[90m 7ms (6ms|1ms)\u001b[0m\n",
      "\u001b[96m Context when parameter ThingToGet is used\u001b[0m\n",
      "\u001b[32m   [+] should return 'I got' followed by parameter value 'a brewski 🍺'\u001b[0m\u001b[90m 23ms (20ms|4ms)\u001b[0m\n",
      "\u001b[32m   [+] should return 'I got' followed by parameter value 'a pizza 🍕'\u001b[0m\u001b[90m 3ms (2ms|1ms)\u001b[0m\n",
      "\u001b[32m   [+] should be a string\u001b[0m\u001b[90m 9ms (9ms|1ms)\u001b[0m\n",
      "\u001b[32m   [+] should be a string\u001b[0m\u001b[90m 2ms (1ms|1ms)\u001b[0m\n",
      "\u001b[97mTests completed in 477ms\u001b[0m\n",
      "\u001b[32mTests Passed: 8, \u001b[0m\u001b[90mFailed: 0, \u001b[0m\u001b[90mSkipped: 0 \u001b[0m\u001b[37m\u001b[0m\u001b[90mNotRun: 0\u001b[0m\n"
     ]
    }
   ],
   "source": [
    "## invoke some Pester tests\n",
    "Invoke-Pester -Path .\\TestingWithPester\\PSSomethingModule.Tests.ps1 -Output Detailed"
   ]
  },
  {
   "cell_type": "markdown",
   "metadata": {},
   "source": [
    "\n",
    "### <a id='toc3_2_'></a>[Real World](#toc0_)\n",
    "Some places in the world using Pester tests to varying degrees of success\n",
    "- [XtremIO.Utils](https://github.com/mtboren/XtremIO.Utils/tree/main/testing) PowerShell module\n",
    "- [vNugglets.Utility](https://github.com/vNugglets/vNuggletsPSMod/tree/main/testing) PowerShell module\n",
    "- [JBT's Pester examples](https://github.com/JeffBrownTech/pester-examples/)\n",
    "\n",
    "## <a id='toc4_'></a>[Further Reading](#toc0_)\n",
    "- Official [Pester docs](https://pester.dev/docs/quick-start)\n",
    "- 👍 JBrown's post (that uses the Pester examples referenced above) at [Getting Started with Pester Testing in PowerShell](https://jeffbrown.tech/getting-started-with-pester-testing-in-powershell/)"
   ]
  }
 ],
 "metadata": {
  "kernelspec": {
   "display_name": ".NET (PowerShell)",
   "language": "PowerShell",
   "name": ".net-powershell"
  },
  "language_info": {
   "file_extension": ".ps1",
   "mimetype": "text/x-powershell",
   "name": "PowerShell",
   "pygments_lexer": "powershell",
   "version": "7.0"
  },
  "orig_nbformat": 4
 },
 "nbformat": 4,
 "nbformat_minor": 2
}
