{
 "cells": [
  {
   "cell_type": "markdown",
   "metadata": {},
   "source": [
    "# `ShouldProcess` for `-WhatIf`, `-Confirm` Support\n",
    "We know and love the \"try it out in a dry run\" capability that PowerShell provides via the `-WhatIf` parameter :heart:. You have probably seen the `-Confirm` parameter on cmdlets, especially for ones that destroy (like `Remove-*` cmdlets).\n",
    "\n",
    "We can support these same great features in our functions -- Thanks, Microsoft, for making it easy!\n",
    "\n",
    "## The Gist\n",
    "\n",
    "- What: find out if our invocation is likely to succeed, _without_ actually doing \\<the thing>\n",
    "- How: the `-WhatIf` parameter\n",
    "\n",
    "and\n",
    "\n",
    "- What: ensure that the caller really wants to do \\<the thing>, _before_ actually doing \\<the thing>, and without having reinvent wheels and writing user interface elements in our function\n",
    "- How: the `-Confirm` parameter\n",
    "\n",
    "## Examples of Confirmation Behavior\n",
    "\n",
    "Some examples of how using the in-built PowerShell confirmation mechanisms enables user confirmation (and more!)"
   ]
  },
  {
   "cell_type": "code",
   "execution_count": 1,
   "metadata": {
    "dotnet_interactive": {
     "language": "pwsh"
    },
    "vscode": {
     "languageId": "powershell"
    }
   },
   "outputs": [
    {
     "data": {
      "text/html": [
       "\r\n",
       "<div>\r\n",
       "    <div id='dotnet-interactive-this-cell-12068.Microsoft.DotNet.Interactive.Http.HttpPort' style='display: none'>\r\n",
       "        The below script needs to be able to find the current output cell; this is an easy method to get it.\r\n",
       "    </div>\r\n",
       "    <script type='text/javascript'>\r\n",
       "async function probeAddresses(probingAddresses) {\r\n",
       "    function timeout(ms, promise) {\r\n",
       "        return new Promise(function (resolve, reject) {\r\n",
       "            setTimeout(function () {\r\n",
       "                reject(new Error('timeout'))\r\n",
       "            }, ms)\r\n",
       "            promise.then(resolve, reject)\r\n",
       "        })\r\n",
       "    }\r\n",
       "\r\n",
       "    if (Array.isArray(probingAddresses)) {\r\n",
       "        for (let i = 0; i < probingAddresses.length; i++) {\r\n",
       "\r\n",
       "            let rootUrl = probingAddresses[i];\r\n",
       "\r\n",
       "            if (!rootUrl.endsWith('/')) {\r\n",
       "                rootUrl = `${rootUrl}/`;\r\n",
       "            }\r\n",
       "\r\n",
       "            try {\r\n",
       "                let response = await timeout(1000, fetch(`${rootUrl}discovery`, {\r\n",
       "                    method: 'POST',\r\n",
       "                    cache: 'no-cache',\r\n",
       "                    mode: 'cors',\r\n",
       "                    timeout: 1000,\r\n",
       "                    headers: {\r\n",
       "                        'Content-Type': 'text/plain'\r\n",
       "                    },\r\n",
       "                    body: probingAddresses[i]\r\n",
       "                }));\r\n",
       "\r\n",
       "                if (response.status == 200) {\r\n",
       "                    return rootUrl;\r\n",
       "                }\r\n",
       "            }\r\n",
       "            catch (e) { }\r\n",
       "        }\r\n",
       "    }\r\n",
       "}\r\n",
       "\r\n",
       "function loadDotnetInteractiveApi() {\r\n",
       "    probeAddresses([\"http://10.0.0.154:1000/\", \"http://192.168.125.1:1000/\", \"http://192.168.191.1:1000/\", \"http://172.18.160.1:1000/\", \"http://172.17.112.1:1000/\", \"http://172.22.16.1:1000/\", \"http://172.25.224.1:1000/\", \"http://172.27.48.1:1000/\", \"http://172.24.128.1:1000/\", \"http://127.0.0.1:1000/\"])\r\n",
       "        .then((root) => {\r\n",
       "        // use probing to find host url and api resources\r\n",
       "        // load interactive helpers and language services\r\n",
       "        let dotnetInteractiveRequire = require.config({\r\n",
       "        context: '12068.Microsoft.DotNet.Interactive.Http.HttpPort',\r\n",
       "                paths:\r\n",
       "            {\r\n",
       "                'dotnet-interactive': `${root}resources`\r\n",
       "                }\r\n",
       "        }) || require;\r\n",
       "\r\n",
       "            window.dotnetInteractiveRequire = dotnetInteractiveRequire;\r\n",
       "\r\n",
       "            window.configureRequireFromExtension = function(extensionName, extensionCacheBuster) {\r\n",
       "                let paths = {};\r\n",
       "                paths[extensionName] = `${root}extensions/${extensionName}/resources/`;\r\n",
       "                \r\n",
       "                let internalRequire = require.config({\r\n",
       "                    context: extensionCacheBuster,\r\n",
       "                    paths: paths,\r\n",
       "                    urlArgs: `cacheBuster=${extensionCacheBuster}`\r\n",
       "                    }) || require;\r\n",
       "\r\n",
       "                return internalRequire\r\n",
       "            };\r\n",
       "        \r\n",
       "            dotnetInteractiveRequire([\r\n",
       "                    'dotnet-interactive/dotnet-interactive'\r\n",
       "                ],\r\n",
       "                function (dotnet) {\r\n",
       "                    dotnet.init(window);\r\n",
       "                },\r\n",
       "                function (error) {\r\n",
       "                    console.log(error);\r\n",
       "                }\r\n",
       "            );\r\n",
       "        })\r\n",
       "        .catch(error => {console.log(error);});\r\n",
       "    }\r\n",
       "\r\n",
       "// ensure `require` is available globally\r\n",
       "if ((typeof(require) !==  typeof(Function)) || (typeof(require.config) !== typeof(Function))) {\r\n",
       "    let require_script = document.createElement('script');\r\n",
       "    require_script.setAttribute('src', 'https://cdnjs.cloudflare.com/ajax/libs/require.js/2.3.6/require.min.js');\r\n",
       "    require_script.setAttribute('type', 'text/javascript');\r\n",
       "    \r\n",
       "    \r\n",
       "    require_script.onload = function() {\r\n",
       "        loadDotnetInteractiveApi();\r\n",
       "    };\r\n",
       "\r\n",
       "    document.getElementsByTagName('head')[0].appendChild(require_script);\r\n",
       "}\r\n",
       "else {\r\n",
       "    loadDotnetInteractiveApi();\r\n",
       "}\r\n",
       "\r\n",
       "    </script>\r\n",
       "</div>"
      ]
     },
     "metadata": {},
     "output_type": "display_data"
    },
    {
     "name": "stdout",
     "output_type": "stream",
     "text": [
      "\n",
      "\u001b[95mConfirm\u001b[0m\n",
      "Are you sure you want to perform this action?\n",
      "Performing the operation \"Remove a fictitious thing\" on target \"Thingy 'jimmy'\".\n",
      "[Y] Yes  [A] Yes to All  [N] No  [L] No to All  [S] Suspend  [?] Help(default is 'Y')"
     ]
    },
    {
     "name": "stdin",
     "output_type": "stream",
     "text": [
      "Select:  y\n"
     ]
    },
    {
     "name": "stdout",
     "output_type": "stream",
     "text": [
      "\u001b[93mVERBOSE: Bye bye, 'jimmy'\u001b[0m\n",
      "\n",
      "\u001b[95mConfirm\u001b[0m\n",
      "Are you sure you want to perform this action?\n",
      "Performing the operation \"Remove a fictitious thing\" on target \"Thingy 'jams'\".\n",
      "[Y] Yes  [A] Yes to All  [N] No  [L] No to All  [S] Suspend  [?] Help(default is 'Y')"
     ]
    },
    {
     "name": "stdin",
     "output_type": "stream",
     "text": [
      "Select:  y\n"
     ]
    },
    {
     "name": "stdout",
     "output_type": "stream",
     "text": [
      "\u001b[93mVERBOSE: Bye bye, 'jams'\u001b[0m\n"
     ]
    }
   ],
   "source": [
    "## prompted for confirmation by default\n",
    "Write-Output jimmy, jams | .\\SupportingShouldProcess\\Remove-FictitiousThing.ps1 -Verbose"
   ]
  },
  {
   "cell_type": "code",
   "execution_count": 2,
   "metadata": {
    "dotnet_interactive": {
     "language": "pwsh"
    },
    "vscode": {
     "languageId": "powershell"
    }
   },
   "outputs": [
    {
     "name": "stdout",
     "output_type": "stream",
     "text": [
      "What if: Performing the operation \"Remove a fictitious thing\" on target \"Thingy 'jimmy'\".\n",
      "What if: Performing the operation \"Remove a fictitious thing\" on target \"Thingy 'jams'\".\n"
     ]
    }
   ],
   "source": [
    "## bonus: using ShouldProcess method in our code also enabled -WhatIf!\n",
    "Write-Output jimmy, jams | .\\SupportingShouldProcess\\Remove-FictitiousThing.ps1 -WhatIf"
   ]
  },
  {
   "cell_type": "code",
   "execution_count": 3,
   "metadata": {
    "dotnet_interactive": {
     "language": "pwsh"
    },
    "vscode": {
     "languageId": "powershell"
    }
   },
   "outputs": [
    {
     "name": "stdout",
     "output_type": "stream",
     "text": [
      "\u001b[93mVERBOSE: Performing the operation \"Remove a fictitious thing\" on target \"Thingy 'jimmy'\".\u001b[0m\n",
      "\u001b[93mVERBOSE: Bye bye, 'jimmy'\u001b[0m\n",
      "\u001b[93mVERBOSE: Performing the operation \"Remove a fictitious thing\" on target \"Thingy 'jams'\".\u001b[0m\n",
      "\u001b[93mVERBOSE: Bye bye, 'jams'\u001b[0m\n"
     ]
    }
   ],
   "source": [
    "## _not_ prompted for confirmation\n",
    "Write-Output jimmy, jams | .\\SupportingShouldProcess\\Remove-FictitiousThing.ps1 -Verbose -Confirm:$false"
   ]
  },
  {
   "cell_type": "markdown",
   "metadata": {},
   "source": [
    "## The Details\n",
    "Microsoft enabled us to use the same framework and patterns for our functions that we are familiar with from many many cmdlets, and with minimal additional effort.\n",
    "\n",
    "- What:  we can add, through familiar, established patterns, flexibility of our functions to support `-WhatIf` and `-Confirm` just like all the \"real\" cmdlets with which we (and our cohorts) are already familiar\n",
    "- How: by making our function and \"advanced\" function (via `CmdletBinding`), and adding one conditional statement (for `ShouldProcess`)\n",
    "\n",
    "To do so, we:\n",
    "- add the `CmdletBinding` parameter attribute\n",
    "- setting the `CmdletBinding` attribute's `SupportsShouldProcess` argument to `$true`\n",
    "- setting the `CmdletBinding` attribute's `ConfirmImpact` argument to a value equal to- or higher than the default `$ConfirmPreference` preference automatic variable\n",
    "- add a conditional statement based on the result of the method `$PSCmdlet.ShouldProcess()`\n",
    "- place our \"do this stuff\" code into the scriptblock for the `$true` condition\n",
    "\n",
    "See the sample code in the file [SupportingShouldProcess/Remove-FictitiousThing.ps1](./SupportingShouldProcess/Remove-FictitiousThing.ps1)\n",
    "\n",
    "And, how this then works:\n",
    "- PowerShell recognizes that the function does support ShouldProcess, thanks to the `SupportsShouldProcess` argument to the `CmdletBinding` attribute\n",
    "- as the function code runs through to the `ShouldProcess()` method invocation, PowerShell assess the confirm impact and preferences\n",
    "- when the `ConfirmImpact` setting on the function is equal to- or higher than the user's `$ConfirmPreference` preference automatic variable, PowerShell automatically engages the Confirm dialog\n",
    "- the user gets the familiar, \"Confirm    Are you sure you want to...\"\n",
    "- the Confirm message is controlled by the arguments to the `ShouldProcess()` method invocation\n",
    "- bonus: this `ShouldProcess()` approach also enables `-WhatIf` support in the function -- yay!\n",
    "\n",
    "## Further Reading\n",
    "Some places from which to get additional information for these things:\n",
    "- PowerShell help for [`about_Functions_CmdletBindingAttribute`](https://docs.microsoft.com/en-us/powershell/module/microsoft.powershell.core/about/about_functions_cmdletbindingattribute) -- the place that tells us about the `CmdletBinding` attribute, its arguments and uses, etc.\n",
    "- [`ConfirmImpact` enumeration](https://docs.microsoft.com/en-us/dotnet/api/system.management.automation.confirmimpact) PowerShell SDK docs page -- so we know what are the available values to the `ConfirmImpact` argument to the `CmdletBinding` attribute\n",
    "- PowerShell Deep Dive topic: [Everything you wanted to know about ShouldProcess](https://docs.microsoft.com/en-us/powershell/scripting/learn/deep-dives/everything-about-shouldprocess) -- more goodness on the topic"
   ]
  }
 ],
 "metadata": {
  "kernelspec": {
   "display_name": ".NET (PowerShell)",
   "language": "PowerShell",
   "name": ".net-powershell"
  },
  "language_info": {
   "file_extension": ".ps1",
   "mimetype": "text/x-powershell",
   "name": "PowerShell",
   "pygments_lexer": "powershell",
   "version": "7.0"
  },
  "vscode": {
   "interpreter": {
    "hash": "ee2aa00c9379cd75f614a9594596818606a5b46de4863e3af2dd74bea3c7bf33"
   }
  }
 },
 "nbformat": 4,
 "nbformat_minor": 4
}
