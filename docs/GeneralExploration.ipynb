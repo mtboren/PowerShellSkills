{
 "cells": [
  {
   "cell_type": "markdown",
   "metadata": {},
   "source": [
    "# General PowerShell Exploration\n",
    "Some general things about PowerShell, useful for the everyday, and to be able to leverage more of the capabilities.\n",
    "\n",
    "Contents:\n",
    "- [PSDrives](#PSDrives): access all the things in a familiar way; variables, environment, registry, certificates, functions, etc.\n",
    "    - [Some examples of drives](#Some-examples-of-drivesSome-examples-of-drives)\n",
    "    - [Some examples of using drives](#Some-examples-of-using-drives)"
   ]
  },
  {
   "cell_type": "markdown",
   "metadata": {},
   "source": [
    "## PSDrives\n",
    "In PowerShell, things are accessible as \"drives\" to it easy to interact with them in a familiar way.  For more information, `Get-Help about_Providers`, or see the online version at Microsoft Docs [About Providers](https://docs.microsoft.com/en-us/powershell/module/microsoft.powershell.core/about/about_providers). \"The data is presented in a consistent format that resembles a file system drive\", so we can interact with it in the same way we do a filesystem. We can use drives to explore, troubleshoot, set, unset, etc. the things around us in an easy, direct way.\n",
    "\n",
    "### Some examples of drives\n",
    "There are several default PSDrives available in a PowerShell session.\n",
    "- `Environment`: \"environment variables are dynamically named variables that describe the\n",
    "environment in which your programs run\"; `Get-Help about_Environment_Provider`\n",
    "- `Variables`: the way in which we refer to the objects available in our PowerShell session; `Get-Help about_Variable_Provider`\n",
    "- `Registry`: you know, the Windows registry, where there are infinite settings available to mess with Windows; `Get-Help about_Registry_Provider`\n",
    "\n",
    "To get the help topics for the rest of the built-in PowerShell providers, `Get-Help -Category HelpFile -Name *provider*`\n",
    "\n",
    "### Some examples of using drives"
   ]
  },
  {
   "cell_type": "code",
   "execution_count": 3,
   "metadata": {},
   "outputs": [
    {
     "name": "stdout",
     "output_type": "stream",
     "text": [
      "\n",
      "Name           Used (GB)     Free (GB) Provider      Root                                CurrentLoc\n",
      "                                                                                              ation\n",
      "----           ---------     --------- --------      ----                                ----------\n",
      "Alias                                  Alias                                                       \n",
      "C                 433.85         42.53 FileSystem    C:\\                                 …ills\\docs\n",
      "Cert                                   Certificate   \\                                             \n",
      "Env                                    Environment                                                 \n",
      "Function                               Function                                                    \n",
      "\n"
     ]
    }
   ],
   "source": [
    "## get the current PSDrives available in this PowerShell session\n",
    "Get-PSDrive | Select-Object -First 5"
   ]
  },
  {
   "cell_type": "markdown",
   "metadata": {},
   "source": [
    "We can `Get-ChildItem` (alias of `dir`) using the \"path\" of the Variable PSDrive to explore current variables/values"
   ]
  },
  {
   "cell_type": "code",
   "execution_count": 5,
   "metadata": {},
   "outputs": [
    {
     "name": "stdout",
     "output_type": "stream",
     "text": [
      "\n",
      "Name                           Value\n",
      "----                           -----\n",
      "$                              variable:\\\n",
      "?                              True\n",
      "^                              dir\n",
      "args                           {}\n",
      "ConfirmPreference              High\n",
      "\n"
     ]
    }
   ],
   "source": [
    "## get some variables\n",
    "dir variable:\\ | Select-Object -First 5"
   ]
  },
  {
   "cell_type": "code",
   "execution_count": 7,
   "metadata": {},
   "outputs": [
    {
     "name": "stdout",
     "output_type": "stream",
     "text": [
      "\n",
      "Name                           Value\n",
      "----                           -----\n",
      "ConfirmPreference              High\n",
      "DebugPreference                SilentlyContinue\n",
      "ErrorActionPreference          Continue\n",
      "ProgressPreference             Continue\n",
      "VerbosePreference              SilentlyContinue\n",
      "\n"
     ]
    }
   ],
   "source": [
    "## get some variables, filtering variable name with wildcards in a familiar way\n",
    "dir variable:\\*preference* | Select-Object -First 5"
   ]
  },
  {
   "cell_type": "markdown",
   "metadata": {},
   "source": [
    "And, we can see what environment variables are set"
   ]
  },
  {
   "cell_type": "code",
   "execution_count": 16,
   "metadata": {},
   "outputs": [
    {
     "name": "stdout",
     "output_type": "stream",
     "text": [
      "\n",
      "Name                           Value\n",
      "----                           -----\n",
      "https_proxy                    https://myproxy.dom.com\n",
      "\n"
     ]
    }
   ],
   "source": [
    "## have we a environment variable set for a web proxy?\n",
    "dir env:\\http*proxy"
   ]
  }
 ],
 "metadata": {
  "kernelspec": {
   "display_name": ".NET (PowerShell)",
   "language": "PowerShell",
   "name": ".net-powershell"
  },
  "language_info": {
   "file_extension": ".ps1",
   "mimetype": "text/x-powershell",
   "name": "PowerShell",
   "pygments_lexer": "powershell",
   "version": "7.0"
  }
 },
 "nbformat": 4,
 "nbformat_minor": 4
}
