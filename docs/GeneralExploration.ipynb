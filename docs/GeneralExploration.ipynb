{
 "cells": [
  {
   "cell_type": "markdown",
   "metadata": {},
   "source": [
    "# General PowerShell Exploration\n",
    "Some general things about PowerShell, useful for the everyday, and to be able to leverage more of the capabilities.\n",
    "\n",
    "Contents:\n",
    "- [Memory Kindness](#Memory-Kindness): some information about various ways that PowerShell does (and _doesn't_) use memory, garbage collection, etc.\n",
    "- [PSDrives](#PSDrives): access all the things in a familiar way; variables, environment, registry, certificates, functions, etc.\n",
    "    - [Some examples of drives](#Some-examples-of-drivesSome-examples-of-drives)\n",
    "    - [Some examples of using drives](#Some-examples-of-using-drives)"
   ]
  },
  {
   "cell_type": "markdown",
   "metadata": {},
   "source": [
    "## Memory Kindness\n",
    "Depending on the way we write our code, we can:\n",
    "- use the minimal amount of memory per operation, and liberate ourselves from having to ever spend time/effort on later freeing up used memory\n",
    "- orrr, gobble up a bunch of memory, and then try to remember to free it up later, and then be sad when things fail as we inevitably forgot about the 107GB variable we created\n",
    "\n",
    "### Benefits of either way\n",
    "#### Use the minimal amount (be kind)\n",
    "We can do things like leverage the PowerShell pipeline to iterate over all the things, only committing to physical memory anything that we must absolutely persist for later operations. Here, we might issue a command that gets some objects, and then we could directly pipe those objects to a subsequent set of cmdlets.\n",
    "\n",
    "In this way, only one such object is ever in memory at a time. Once it reaches the end of the pipeline, the object either consumed by the final cmdlet, or emitted to the host console. That object is then \"gone\", and so too is [essentially] the memory it had consumed.\n",
    "\n",
    "#### Gobble up a bunch of memory, and then try to remember...\n",
    "A traditional approach may be to issue some command that gets a pile of objects, save them as the value for a variable (commit them all to physical memory), then later do something with all those juicy objects in said variable. This partly stems from us trying to get our hands/heads around all the goodness that we're creating, and a bit of comfort (already know how to do that!).\n",
    "\n",
    "The cost comes in terms of memory consumption (not always bad), and additional effort to them manually or at least explicitly manage (maybe through code) the memory we've consumed.  A potential benefit is that we enable use cases where we can then do things most quickly with all of those objects in memory at the same time.\n",
    "\n",
    "### Some examples that illustrate memory consumption (and avoidance)\n",
    "#### Memory consumption, manual cleanup"
   ]
  },
  {
   "cell_type": "code",
   "execution_count": 1,
   "metadata": {},
   "outputs": [
    {
     "data": {
      "text/html": [
       "\r\n",
       "<div>\r\n",
       "    <div id='dotnet-interactive-this-cell-4192.Microsoft.DotNet.Interactive.Http.HttpPort' style='display: none'>\r\n",
       "        The below script needs to be able to find the current output cell; this is an easy method to get it.\r\n",
       "    </div>\r\n",
       "    <script type='text/javascript'>\r\n",
       "async function probeAddresses(probingAddresses) {\r\n",
       "    function timeout(ms, promise) {\r\n",
       "        return new Promise(function (resolve, reject) {\r\n",
       "            setTimeout(function () {\r\n",
       "                reject(new Error('timeout'))\r\n",
       "            }, ms)\r\n",
       "            promise.then(resolve, reject)\r\n",
       "        })\r\n",
       "    }\r\n",
       "\r\n",
       "    if (Array.isArray(probingAddresses)) {\r\n",
       "        for (let i = 0; i < probingAddresses.length; i++) {\r\n",
       "\r\n",
       "            let rootUrl = probingAddresses[i];\r\n",
       "\r\n",
       "            if (!rootUrl.endsWith('/')) {\r\n",
       "                rootUrl = `${rootUrl}/`;\r\n",
       "            }\r\n",
       "\r\n",
       "            try {\r\n",
       "                let response = await timeout(1000, fetch(`${rootUrl}discovery`, {\r\n",
       "                    method: 'POST',\r\n",
       "                    cache: 'no-cache',\r\n",
       "                    mode: 'cors',\r\n",
       "                    timeout: 1000,\r\n",
       "                    headers: {\r\n",
       "                        'Content-Type': 'text/plain'\r\n",
       "                    },\r\n",
       "                    body: probingAddresses[i]\r\n",
       "                }));\r\n",
       "\r\n",
       "                if (response.status == 200) {\r\n",
       "                    return rootUrl;\r\n",
       "                }\r\n",
       "            }\r\n",
       "            catch (e) { }\r\n",
       "        }\r\n",
       "    }\r\n",
       "}\r\n",
       "\r\n",
       "function loadDotnetInteractiveApi() {\r\n",
       "    probeAddresses([\"http://10.0.0.154:1000/\", \"http://192.168.125.1:1000/\", \"http://192.168.191.1:1000/\", \"http://172.26.176.1:1000/\", \"http://172.30.224.1:1000/\", \"http://192.168.144.1:1000/\", \"http://172.31.240.1:1000/\", \"http://172.27.16.1:1000/\", \"http://127.0.0.1:1000/\"])\r\n",
       "        .then((root) => {\r\n",
       "        // use probing to find host url and api resources\r\n",
       "        // load interactive helpers and language services\r\n",
       "        let dotnetInteractiveRequire = require.config({\r\n",
       "        context: '4192.Microsoft.DotNet.Interactive.Http.HttpPort',\r\n",
       "                paths:\r\n",
       "            {\r\n",
       "                'dotnet-interactive': `${root}resources`\r\n",
       "                }\r\n",
       "        }) || require;\r\n",
       "\r\n",
       "            window.dotnetInteractiveRequire = dotnetInteractiveRequire;\r\n",
       "\r\n",
       "            window.configureRequireFromExtension = function(extensionName, extensionCacheBuster) {\r\n",
       "                let paths = {};\r\n",
       "                paths[extensionName] = `${root}extensions/${extensionName}/resources/`;\r\n",
       "                \r\n",
       "                let internalRequire = require.config({\r\n",
       "                    context: extensionCacheBuster,\r\n",
       "                    paths: paths,\r\n",
       "                    urlArgs: `cacheBuster=${extensionCacheBuster}`\r\n",
       "                    }) || require;\r\n",
       "\r\n",
       "                return internalRequire\r\n",
       "            };\r\n",
       "        \r\n",
       "            dotnetInteractiveRequire([\r\n",
       "                    'dotnet-interactive/dotnet-interactive'\r\n",
       "                ],\r\n",
       "                function (dotnet) {\r\n",
       "                    dotnet.init(window);\r\n",
       "                },\r\n",
       "                function (error) {\r\n",
       "                    console.log(error);\r\n",
       "                }\r\n",
       "            );\r\n",
       "        })\r\n",
       "        .catch(error => {console.log(error);});\r\n",
       "    }\r\n",
       "\r\n",
       "// ensure `require` is available globally\r\n",
       "if ((typeof(require) !==  typeof(Function)) || (typeof(require.config) !== typeof(Function))) {\r\n",
       "    let require_script = document.createElement('script');\r\n",
       "    require_script.setAttribute('src', 'https://cdnjs.cloudflare.com/ajax/libs/require.js/2.3.6/require.min.js');\r\n",
       "    require_script.setAttribute('type', 'text/javascript');\r\n",
       "    \r\n",
       "    \r\n",
       "    require_script.onload = function() {\r\n",
       "        loadDotnetInteractiveApi();\r\n",
       "    };\r\n",
       "\r\n",
       "    document.getElementsByTagName('head')[0].appendChild(require_script);\r\n",
       "}\r\n",
       "else {\r\n",
       "    loadDotnetInteractiveApi();\r\n",
       "}\r\n",
       "\r\n",
       "    </script>\r\n",
       "</div>"
      ]
     },
     "metadata": {},
     "output_type": "display_data"
    },
    {
     "name": "stdout",
     "output_type": "stream",
     "text": [
      "\n",
      "\u001b[32;1mWhen                        MemUsageMB\u001b[0m\n",
      "\u001b[32;1m----                        ----------\u001b[0m\n",
      "10/26/2022 5:29:16 PM 24.5275726318359\n",
      "\n"
     ]
    }
   ],
   "source": [
    "## Garbage Time!\n",
    "## some .NET method invocation from the GC (GarbageCollection) class to get some pwsh process memory usage info; we'll just use this here to inspect our memory conusmption\n",
    "$sbGetSomeProcessInfo = {[System.GC]::GetTotalMemory($false) | Select-Object @{n=\"When\"; e={Get-Date}}, @{n=\"MemUsageMB\"; e={$_ / 1mb}} -OutVariable +arrProcessInfo}\n",
    "\n",
    "## get pwsh process memory usage baseline (should start a new pwsh session, first, so all clean)\n",
    ". $sbGetSomeProcessInfo"
   ]
  },
  {
   "cell_type": "code",
   "execution_count": 2,
   "metadata": {},
   "outputs": [
    {
     "name": "stdout",
     "output_type": "stream",
     "text": [
      "\n",
      "\u001b[32;1mWhen                        MemUsageMB\u001b[0m\n",
      "\u001b[32;1m----                        ----------\u001b[0m\n",
      "10/26/2022 5:29:21 PM 330.013786315918\n",
      "\n"
     ]
    }
   ],
   "source": [
    "## first, garbage creation (gobble up a bunch of memory, but not even for good reason)\n",
    "$arrLotsaInts = 1..10mb ## <-- garbage created here!\n",
    "## let's see how much gerrbage\n",
    ". $sbGetSomeProcessInfo"
   ]
  },
  {
   "cell_type": "code",
   "execution_count": 3,
   "metadata": {},
   "outputs": [
    {
     "name": "stdout",
     "output_type": "stream",
     "text": [
      "\u001b[93mVERBOSE: on item '1'MB!\u001b[0m\n",
      "\u001b[93mVERBOSE: on item '2'MB!\u001b[0m\n",
      "\u001b[93mVERBOSE: on item '3'MB!\u001b[0m\n",
      "\u001b[93mVERBOSE: on item '4'MB!\u001b[0m\n",
      "\u001b[93mVERBOSE: on item '5'MB!\u001b[0m\n",
      "\u001b[93mVERBOSE: on item '6'MB!\u001b[0m\n",
      "\u001b[93mVERBOSE: on item '7'MB!\u001b[0m\n",
      "\u001b[93mVERBOSE: on item '8'MB!\u001b[0m\n",
      "\u001b[93mVERBOSE: on item '9'MB!\u001b[0m\n",
      "\u001b[93mVERBOSE: on item '10'MB!\u001b[0m\n",
      "\n",
      "\u001b[32;1mDays              : \u001b[0m0\n",
      "\u001b[32;1mHours             : \u001b[0m0\n",
      "\u001b[32;1mMinutes           : \u001b[0m0\n",
      "\u001b[32;1mSeconds           : \u001b[0m50\n",
      "\u001b[32;1mMilliseconds      : \u001b[0m576\n",
      "\u001b[32;1mTicks             : \u001b[0m505765309\n",
      "\u001b[32;1mTotalDays         : \u001b[0m0.000585376515046296\n",
      "\u001b[32;1mTotalHours        : \u001b[0m0.0140490363611111\n",
      "\u001b[32;1mTotalMinutes      : \u001b[0m0.842942181666667\n",
      "\u001b[32;1mTotalSeconds      : \u001b[0m50.5765309\n",
      "\u001b[32;1mTotalMilliseconds : \u001b[0m50576.5309\n",
      "\n",
      "\n",
      "\u001b[32;1mWhen       : \u001b[0m10/26/2022 5:30:16 PM\n",
      "\u001b[32;1mMemUsageMB : \u001b[0m332.734001159668\n",
      "\n",
      "\n"
     ]
    }
   ],
   "source": [
    "## trash! Let's see if the \"traditional\" pipeline consumes even more after the initial memory allocation\n",
    "Measure-Command {$arrLotsaInts | ForEach-Object {if (($_ % 1mb) -eq 0) {Write-Verbose -Verbose \"on item '$($_/1mb)'MB!\"}}} -OutVariable tspForeachObject_withGarbage\n",
    "## see memory usage\n",
    ". $sbGetSomeProcessInfo"
   ]
  },
  {
   "cell_type": "markdown",
   "metadata": {},
   "source": [
    "Confirmed, nothing is free -- while the pipeline adds a small bit of memory consumption, it is minimal (especially compared to the amount we may have wasted on just assigning the values to a variable but then not taking advantage of all those objects being in memory at once.\n",
    "\n",
    "Let's try some clean up"
   ]
  },
  {
   "cell_type": "code",
   "execution_count": 4,
   "metadata": {},
   "outputs": [
    {
     "name": "stdout",
     "output_type": "stream",
     "text": [
      "333.178726196289\n"
     ]
    }
   ],
   "source": [
    "## Attempt at cleaning up -- does this doit?\n",
    "Remove-Variable -Name arrLotsaInts\n",
    "[System.GC]::GetTotalMemory($false) / 1mb"
   ]
  },
  {
   "cell_type": "markdown",
   "metadata": {},
   "source": [
    "What?! Hmm, this whole, \"gotta manage that memory\" is already starting to be a bit of a hassle. Oh well, back to what we've known from elsewhere:  let's have the system collect the trash"
   ]
  },
  {
   "cell_type": "code",
   "execution_count": 5,
   "metadata": {},
   "outputs": [
    {
     "name": "stdout",
     "output_type": "stream",
     "text": [
      "\n",
      "\u001b[32;1mWhen                       MemUsageMB\u001b[0m\n",
      "\u001b[32;1m----                       ----------\u001b[0m\n",
      "10/26/2022 5:31:52 PM 9.7427978515625\n",
      "\n"
     ]
    }
   ],
   "source": [
    "## well, time to collect that garbage, then see how the mem usage changes\n",
    "[System.GC]::Collect()\n",
    ". $sbGetSomeProcessInfo"
   ]
  },
  {
   "cell_type": "markdown",
   "metadata": {},
   "source": [
    "Got it -- we have to do some work to free up that memory we grabbed.\n",
    "\n",
    "#### Use the minimal amount (be kind)\n",
    "M'kay - soo, we can use memory as desired, but let's see how to avoid/minimize memory usage while still achieving the same results"
   ]
  },
  {
   "cell_type": "code",
   "execution_count": 6,
   "metadata": {},
   "outputs": [
    {
     "name": "stdout",
     "output_type": "stream",
     "text": [
      "\u001b[93mVERBOSE: on item '1'MB!\u001b[0m\n",
      "\u001b[93mVERBOSE: on item '2'MB!\u001b[0m\n",
      "\u001b[93mVERBOSE: on item '3'MB!\u001b[0m\n",
      "\u001b[93mVERBOSE: on item '4'MB!\u001b[0m\n",
      "\u001b[93mVERBOSE: on item '5'MB!\u001b[0m\n",
      "\u001b[93mVERBOSE: on item '6'MB!\u001b[0m\n",
      "\u001b[93mVERBOSE: on item '7'MB!\u001b[0m\n",
      "\u001b[93mVERBOSE: on item '8'MB!\u001b[0m\n",
      "\u001b[93mVERBOSE: on item '9'MB!\u001b[0m\n",
      "\u001b[93mVERBOSE: on item '10'MB!\u001b[0m\n",
      "\n",
      "\u001b[32;1mDays              : \u001b[0m0\n",
      "\u001b[32;1mHours             : \u001b[0m0\n",
      "\u001b[32;1mMinutes           : \u001b[0m0\n",
      "\u001b[32;1mSeconds           : \u001b[0m48\n",
      "\u001b[32;1mMilliseconds      : \u001b[0m578\n",
      "\u001b[32;1mTicks             : \u001b[0m485785964\n",
      "\u001b[32;1mTotalDays         : \u001b[0m0.000562252273148148\n",
      "\u001b[32;1mTotalHours        : \u001b[0m0.0134940545555556\n",
      "\u001b[32;1mTotalMinutes      : \u001b[0m0.809643273333333\n",
      "\u001b[32;1mTotalSeconds      : \u001b[0m48.5785964\n",
      "\u001b[32;1mTotalMilliseconds : \u001b[0m48578.5964\n",
      "\n",
      "\n",
      "\u001b[32;1mWhen       : \u001b[0m10/26/2022 5:32:48 PM\n",
      "\u001b[32;1mMemUsageMB : \u001b[0m24.5848007202148\n",
      "\n",
      "\n"
     ]
    }
   ],
   "source": [
    "## garbage _avoidance_ -- use the pipeline!\n",
    "Measure-Command {1..10mb | ForEach-Object {if (($_ % 1mb) -eq 0) {Write-Verbose -Verbose \"on item '$($_/1mb)'MB!\"}}} -OutVariable tspForeachObject\n",
    ". $sbGetSomeProcessInfo"
   ]
  },
  {
   "cell_type": "markdown",
   "metadata": {},
   "source": [
    "Woo-hoo! It took about the same amount of time to run as before, but we prevented the overhead of hundreds of MBs of memory consumption -- go-o-o-o-o, us! 🎈\n",
    "\n",
    "#### Benefit from intentional memory consumption\n",
    "Now, back to the, \"sometimes it's _good_ to leverage that memory\". Here's a bit of an adjustment to the first example above that made all of the memory garbage to handle, but that actually takes advantage of that memory to then do all the things much more quickly. This uses the `.ForEach()` method of PowerShell arrays"
   ]
  },
  {
   "cell_type": "code",
   "execution_count": 7,
   "metadata": {},
   "outputs": [
    {
     "name": "stdout",
     "output_type": "stream",
     "text": [
      "\u001b[93mVERBOSE: on item '1'MB!\u001b[0m\n",
      "\u001b[93mVERBOSE: on item '2'MB!\u001b[0m\n",
      "\u001b[93mVERBOSE: on item '3'MB!\u001b[0m\n",
      "\u001b[93mVERBOSE: on item '4'MB!\u001b[0m\n",
      "\u001b[93mVERBOSE: on item '5'MB!\u001b[0m\n",
      "\u001b[93mVERBOSE: on item '6'MB!\u001b[0m\n",
      "\u001b[93mVERBOSE: on item '7'MB!\u001b[0m\n",
      "\u001b[93mVERBOSE: on item '8'MB!\u001b[0m\n",
      "\u001b[93mVERBOSE: on item '9'MB!\u001b[0m\n",
      "\u001b[93mVERBOSE: on item '10'MB!\u001b[0m\n",
      "\n",
      "\u001b[32;1mDays              : \u001b[0m0\n",
      "\u001b[32;1mHours             : \u001b[0m0\n",
      "\u001b[32;1mMinutes           : \u001b[0m0\n",
      "\u001b[32;1mSeconds           : \u001b[0m14\n",
      "\u001b[32;1mMilliseconds      : \u001b[0m283\n",
      "\u001b[32;1mTicks             : \u001b[0m142832317\n",
      "\u001b[32;1mTotalDays         : \u001b[0m0.000165315181712963\n",
      "\u001b[32;1mTotalHours        : \u001b[0m0.00396756436111111\n",
      "\u001b[32;1mTotalMinutes      : \u001b[0m0.238053861666667\n",
      "\u001b[32;1mTotalSeconds      : \u001b[0m14.2832317\n",
      "\u001b[32;1mTotalMilliseconds : \u001b[0m14283.2317\n",
      "\n",
      "\n",
      "\u001b[32;1mWhen       : \u001b[0m10/26/2022 5:33:11 PM\n",
      "\u001b[32;1mMemUsageMB : \u001b[0m340.796295166016\n",
      "\n",
      "\n"
     ]
    }
   ],
   "source": [
    "## still garbage creation (intentional trash!), but for the sake of speed\n",
    "Measure-Command {(1..10mb).ForEach({if (($_ % 1mb) -eq 0) {Write-Verbose -Verbose \"on item '$($_/1mb)'MB!\"}})} -OutVariable tspForeachMethod\n",
    ". $sbGetSomeProcessInfo"
   ]
  },
  {
   "cell_type": "markdown",
   "metadata": {},
   "source": [
    "Used lotsa memory again, but look at that speed boost!"
   ]
  },
  {
   "cell_type": "code",
   "execution_count": 8,
   "metadata": {},
   "outputs": [
    {
     "name": "stdout",
     "output_type": "stream",
     "text": [
      "\n",
      "\u001b[32;1mPercentFasterForMethod\u001b[0m\n",
      "\u001b[32;1m----------------------\u001b[0m\n",
      "      340.109279330671\n",
      "\n"
     ]
    }
   ],
   "source": [
    "## how much faster using ForeEach() method and lots of memory verus minimal memory and the pipeline? (percent)\n",
    "New-Object -Type PSObject -Property @{PercentFasterForMethod = $tspForeachObject.TotalMilliseconds / $tspForeachMethod.TotalMilliseconds * 100}"
   ]
  },
  {
   "cell_type": "markdown",
   "metadata": {},
   "source": [
    "Soo fast! So, we get to choose. Conserve resources (prevent memory consumption) and get done in sufficient time, or blaze up the resources and go fast fast fast!"
   ]
  },
  {
   "cell_type": "markdown",
   "metadata": {},
   "source": [
    "## PSDrives\n",
    "In PowerShell, things are accessible as \"drives\" to it easy to interact with them in a familiar way.  For more information, `Get-Help about_Providers`, or see the online version at Microsoft Docs [About Providers](https://docs.microsoft.com/en-us/powershell/module/microsoft.powershell.core/about/about_providers). \"The data is presented in a consistent format that resembles a file system drive\", so we can interact with it in the same way we do a filesystem. We can use drives to explore, troubleshoot, set, unset, etc. the things around us in an easy, direct way.\n",
    "\n",
    "### Some examples of drives\n",
    "There are several default PSDrives available in a PowerShell session.\n",
    "- `Environment`: \"environment variables are dynamically named variables that describe the\n",
    "environment in which your programs run\"; `Get-Help about_Environment_Provider`\n",
    "- `Variables`: the way in which we refer to the objects available in our PowerShell session; `Get-Help about_Variable_Provider`\n",
    "- `Registry`: you know, the Windows registry, where there are infinite settings available to mess with Windows; `Get-Help about_Registry_Provider`\n",
    "\n",
    "To get the help topics for the rest of the built-in PowerShell providers, `Get-Help -Category HelpFile -Name *provider*`\n",
    "\n",
    "### Some examples of using drives"
   ]
  },
  {
   "cell_type": "code",
   "execution_count": 3,
   "metadata": {},
   "outputs": [
    {
     "name": "stdout",
     "output_type": "stream",
     "text": [
      "\n",
      "Name           Used (GB)     Free (GB) Provider      Root                                CurrentLoc\n",
      "                                                                                              ation\n",
      "----           ---------     --------- --------      ----                                ----------\n",
      "Alias                                  Alias                                                       \n",
      "C                 433.85         42.53 FileSystem    C:\\                                 …ills\\docs\n",
      "Cert                                   Certificate   \\                                             \n",
      "Env                                    Environment                                                 \n",
      "Function                               Function                                                    \n",
      "\n"
     ]
    }
   ],
   "source": [
    "## get the current PSDrives available in this PowerShell session\n",
    "Get-PSDrive | Select-Object -First 5"
   ]
  },
  {
   "cell_type": "markdown",
   "metadata": {},
   "source": [
    "We can `Get-ChildItem` (alias of `dir`) using the \"path\" of the Variable PSDrive to explore current variables/values"
   ]
  },
  {
   "cell_type": "code",
   "execution_count": 5,
   "metadata": {},
   "outputs": [
    {
     "name": "stdout",
     "output_type": "stream",
     "text": [
      "\n",
      "Name                           Value\n",
      "----                           -----\n",
      "$                              variable:\\\n",
      "?                              True\n",
      "^                              dir\n",
      "args                           {}\n",
      "ConfirmPreference              High\n",
      "\n"
     ]
    }
   ],
   "source": [
    "## get some variables\n",
    "dir variable:\\ | Select-Object -First 5"
   ]
  },
  {
   "cell_type": "code",
   "execution_count": 7,
   "metadata": {},
   "outputs": [
    {
     "name": "stdout",
     "output_type": "stream",
     "text": [
      "\n",
      "Name                           Value\n",
      "----                           -----\n",
      "ConfirmPreference              High\n",
      "DebugPreference                SilentlyContinue\n",
      "ErrorActionPreference          Continue\n",
      "ProgressPreference             Continue\n",
      "VerbosePreference              SilentlyContinue\n",
      "\n"
     ]
    }
   ],
   "source": [
    "## get some variables, filtering variable name with wildcards in a familiar way\n",
    "dir variable:\\*preference* | Select-Object -First 5"
   ]
  },
  {
   "cell_type": "markdown",
   "metadata": {},
   "source": [
    "And, we can see what environment variables are set"
   ]
  },
  {
   "cell_type": "code",
   "execution_count": 16,
   "metadata": {},
   "outputs": [
    {
     "name": "stdout",
     "output_type": "stream",
     "text": [
      "\n",
      "Name                           Value\n",
      "----                           -----\n",
      "https_proxy                    https://myproxy.dom.com\n",
      "\n"
     ]
    }
   ],
   "source": [
    "## have we a environment variable set for a web proxy?\n",
    "dir env:\\http*proxy"
   ]
  }
 ],
 "metadata": {
  "kernelspec": {
   "display_name": ".NET (PowerShell)",
   "language": "PowerShell",
   "name": ".net-powershell"
  },
  "language_info": {
   "file_extension": ".ps1",
   "mimetype": "text/x-powershell",
   "name": "PowerShell",
   "pygments_lexer": "powershell",
   "version": "7.0"
  }
 },
 "nbformat": 4,
 "nbformat_minor": 4
}
