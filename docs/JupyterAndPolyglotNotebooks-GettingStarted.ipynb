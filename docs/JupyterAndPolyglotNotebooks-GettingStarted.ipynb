{
 "cells": [
  {
   "cell_type": "markdown",
   "metadata": {},
   "source": [
    "# Polyglot Jupyter Notebooks, .NET Interactive, VSCode -- Getting Started\n",
    "Mo easy! We can get going with Jupyter notebooks in VS Code thanks to the Polyglot VS Code extension.\n",
    "\n",
    "Traditionally people would install some Jupyter / JupyterLab software to then be able to author Jupyter notebooks. There was a bit of \"doing\" to then add support for Jupyter _kernels_ so as to support authoring/running notebook cells in other languages, like .NET-based languages (C#, F#, PowerShell).\n",
    "\n",
    "This became super easy as the .NET Interactive notebooks project eventually became the Polyglot project, leveraging the .NET Interactive engine.\n",
    "\n",
    "## Benefits of Polyglot\n",
    "As the name indicates, using a Polyglot notebook enables us to have not only multiple notebooks in various languages supported by the .NET Interactive engine (C#, F#, Javascript, PowerShell, KQL, etc.), but also enables multiple language cells in the _same_ notebook! So, a C# cell, then a PowerShell cell, then one with KQL.\n",
    "\n",
    "What's more -- a single cell within a Polyglot notebook can even have multiple languages itself! So, a single cell with some C# _and_ some PowerShell, thanks to \n",
    "\n",
    "## Get Going\n",
    "The gist:\n",
    "- in any order:\n",
    "    - install .NET SDK\n",
    "    - install VS Code and Polyglot extension\n",
    "- launch VS Code, create new Jupyter notebook, choose .NET Interactive kernel\n",
    "- prosper!"
   ]
  },
  {
   "cell_type": "code",
   "execution_count": null,
   "metadata": {
    "dotnet_interactive": {
     "language": "pwsh"
    },
    "polyglot_notebook": {
     "kernelName": "pwsh"
    }
   },
   "outputs": [],
   "source": [
    "## install Polyglot VS Code extension\n",
    "code --install-extension ms-dotnettools.dotnet-interactive-vscode"
   ]
  },
  {
   "cell_type": "markdown",
   "metadata": {},
   "source": []
  },
  {
   "cell_type": "code",
   "execution_count": null,
   "metadata": {
    "dotnet_interactive": {
     "language": "pwsh"
    },
    "polyglot_notebook": {
     "kernelName": "pwsh"
    }
   },
   "outputs": [],
   "source": [
    "#region install winget client\n",
    "## from https://learn.microsoft.com/en-us/windows/package-manager/winget/#install-winget-on-windows-sandbox; Add-AppxPackage runs in PowerShell 5 (Win PS)\n",
    "$progressPreference = \"SilentlyContinue\"\n",
    "Write-Information \"Downloading WinGet and its dependencies...\"\n",
    "Invoke-WebRequest -Uri https://aka.ms/getwinget -OutFile Microsoft.DesktopAppInstaller_8wekyb3d8bbwe.msixbundle\n",
    "Invoke-WebRequest -Uri https://aka.ms/Microsoft.VCLibs.x64.14.00.Desktop.appx -OutFile Microsoft.VCLibs.x64.14.00.Desktop.appx\n",
    "Invoke-WebRequest -Uri https://github.com/microsoft/microsoft-ui-xaml/releases/download/v2.7.3/Microsoft.UI.Xaml.2.7.x64.appx -OutFile Microsoft.UI.Xaml.2.7.x64.appx\n",
    "Write-Output Microsoft.VCLibs.x64.14.00.Desktop.appx Microsoft.UI.Xaml.2.7.x64.appx Microsoft.DesktopAppInstaller_8wekyb3d8bbwe.msixbundle |\n",
    "    Add-AppxPackage\n",
    "#endregion install winget client\n",
    "\n",
    "#region install .NET SDK, VSCode\n",
    "## using .NET SDK v8 (current atm); check for current when you're installing! (can check via 'winget search Microsoft.DotNet.SDK')\n",
    "winget install Microsoft.DotNet.SDK.8, Microsoft.VisualStudioCode\n",
    "#endregion install .NET SDK, VSCode\n",
    "\n",
    "## and, install the VSCode extension as outlined above"
   ]
  }
 ],
 "metadata": {
  "kernelspec": {
   "display_name": ".NET (C#)",
   "language": "C#",
   "name": ".net-csharp"
  },
  "language_info": {
   "name": "polyglot-notebook"
  },
  "polyglot_notebook": {
   "kernelInfo": {
    "defaultKernelName": "csharp",
    "items": [
     {
      "aliases": [],
      "name": "csharp"
     }
    ]
   }
  }
 },
 "nbformat": 4,
 "nbformat_minor": 2
}
