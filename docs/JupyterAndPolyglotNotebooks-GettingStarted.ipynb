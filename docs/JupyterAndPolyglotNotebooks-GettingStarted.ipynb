{
 "cells": [
  {
   "cell_type": "markdown",
   "metadata": {},
   "source": [
    "# Polyglot Jupyter Notebooks, .NET Interactive, VS Code -- Getting Started\n",
    "Mo easy! We can get going with Jupyter notebooks in VS Code thanks to the Polyglot VS Code extension.\n",
    "\n",
    "Traditionally people would install some Jupyter / JupyterLab software to then be able to author Jupyter notebooks. There was a bit of \"doing\" to then add support for Jupyter _kernels_ so as to support authoring/running notebook cells in other languages, like .NET-based languages (C#, F#, PowerShell). For a trip down that memory lane, see [Further Reading](#further-reading) below for a link to the \"old way\".\n",
    "\n",
    "This became super easy as the .NET Interactive notebooks project eventually became the Polyglot project, leveraging the .NET Interactive engine.\n"
   ]
  },
  {
   "cell_type": "markdown",
   "metadata": {},
   "source": [
    "**Table of contents**<a id='toc0_'></a>    \n",
    "- [Benefits of Polyglot](#toc1_)    \n",
    "- [Get Going](#toc2_)    \n",
    "- [Examples](#toc3_)    \n",
    "  - [Same notebook, Multiple cells, each with different languages](#toc3_1_)    \n",
    "  - [Single cell with multiple languages within it!](#toc3_2_)    \n",
    "- [Other Install Things](#toc4_)    \n",
    "- [Further Reading](#toc5_)    \n",
    "\n",
    "<!-- vscode-jupyter-toc-config\n",
    "\tnumbering=false\n",
    "\tanchor=true\n",
    "\tflat=false\n",
    "\tminLevel=2\n",
    "\tmaxLevel=6\n",
    "\t/vscode-jupyter-toc-config -->\n",
    "<!-- THIS CELL WILL BE REPLACED ON TOC UPDATE. DO NOT WRITE YOUR TEXT IN THIS CELL -->"
   ]
  },
  {
   "cell_type": "markdown",
   "metadata": {},
   "source": [
    "\n",
    "## <a id='toc1_'></a>[Benefits of Polyglot](#toc0_)\n",
    "As the name indicates, using a Polyglot notebook enables us to have not only multiple notebooks in various languages supported by the .NET Interactive engine (C#, F#, Javascript, PowerShell, KQL, etc.), but also enables multiple language cells in the _same_ notebook! So, a C# cell, then a PowerShell cell, then one with KQL.\n",
    "\n",
    "What's more -- a single cell within a Polyglot notebook can even have multiple languages itself! So, a single cell with some C# _and_ some PowerShell.\n",
    "\n",
    "And, if that was not enough, the VS Code setup is simplified and straight forward as compared to previous efforts needed for Jupyter Notebook support 🎉\n",
    "\n",
    "## <a id='toc2_'></a>[Get Going](#toc0_)\n",
    "The gist:\n",
    "- in any order:\n",
    "    - install .NET SDK\n",
    "    - install VS Code and Polyglot extension\n",
    "- launch VS Code, create new Jupyter notebook, choose .NET Interactive kernel\n",
    "- prosper!\n",
    "\n",
    "Here is the command to run to install the Polyglot VS Code extension once VS Code is present. See [Other Install Things](#other-install-things) below for commands for installing the .NET SDK and VS Code, if you'd like."
   ]
  },
  {
   "cell_type": "code",
   "execution_count": null,
   "metadata": {
    "dotnet_interactive": {
     "language": "pwsh"
    },
    "polyglot_notebook": {
     "kernelName": "pwsh"
    }
   },
   "outputs": [],
   "source": [
    "## install Polyglot VS Code extension\n",
    "code --install-extension ms-dotnettools.dotnet-interactive-vscode"
   ]
  },
  {
   "cell_type": "markdown",
   "metadata": {},
   "source": [
    "## <a id='toc3_'></a>[Examples](#toc0_)\n",
    "Some examples of Polyglot notebooks in action. By the way, if you didn't already realize, _this_ notebook is a Polyglot notebook -- yay.\n",
    "\n",
    "### <a id='toc3_1_'></a>[Same notebook, Multiple cells, each with different languages](#toc0_)\n"
   ]
  },
  {
   "cell_type": "code",
   "execution_count": 42,
   "metadata": {
    "dotnet_interactive": {
     "language": "csharp"
    },
    "polyglot_notebook": {
     "kernelName": "csharp"
    }
   },
   "outputs": [
    {
     "data": {
      "text/html": [
       "<div class=\"dni-plaintext\"><pre>[ Dickie, Roscoe, Zelda ]</pre></div><style>\r\n",
       ".dni-code-hint {\r\n",
       "    font-style: italic;\r\n",
       "    overflow: hidden;\r\n",
       "    white-space: nowrap;\r\n",
       "}\r\n",
       ".dni-treeview {\r\n",
       "    white-space: nowrap;\r\n",
       "}\r\n",
       ".dni-treeview td {\r\n",
       "    vertical-align: top;\r\n",
       "    text-align: start;\r\n",
       "}\r\n",
       "details.dni-treeview {\r\n",
       "    padding-left: 1em;\r\n",
       "}\r\n",
       "table td {\r\n",
       "    text-align: start;\r\n",
       "}\r\n",
       "table tr { \r\n",
       "    vertical-align: top; \r\n",
       "    margin: 0em 0px;\r\n",
       "}\r\n",
       "table tr td pre \r\n",
       "{ \r\n",
       "    vertical-align: top !important; \r\n",
       "    margin: 0em 0px !important;\r\n",
       "} \r\n",
       "table th {\r\n",
       "    text-align: start;\r\n",
       "}\r\n",
       "</style>"
      ]
     },
     "metadata": {},
     "output_type": "display_data"
    }
   ],
   "source": [
    "// some C#\n",
    "// sort some set -- wow\n",
    "using System.Collections.Generic;\n",
    "SortedSet<string> coolGuys = new() {\"Roscoe\", \"Dickie\", \"Zelda\"};\n",
    "\n",
    "return coolGuys;"
   ]
  },
  {
   "cell_type": "code",
   "execution_count": 6,
   "metadata": {
    "dotnet_interactive": {
     "language": "pwsh"
    },
    "polyglot_notebook": {
     "kernelName": "pwsh"
    }
   },
   "outputs": [
    {
     "name": "stdout",
     "output_type": "stream",
     "text": [
      "\n",
      "\u001b[32;1mCount             : \u001b[0m10\n",
      "\u001b[32;1mAverage           : \u001b[0m5591\n",
      "\u001b[32;1mSum               : \u001b[0m55910\n",
      "\u001b[32;1mMaximum           : \u001b[0m10208\n",
      "\u001b[32;1mMinimum           : \u001b[0m2303\n",
      "\u001b[32;1mStandardDeviation : \u001b[0m\n",
      "\u001b[32;1mProperty          : \u001b[0m\n",
      "\n"
     ]
    }
   ],
   "source": [
    "## and then some PowerShell, as enabled by the Polyglot notebooks!\n",
    "## get some measurement info about some random values\n",
    "Get-Random -Minimum 1kb -Maximum 10kb -Count 10 | Measure-Object -Sum -Minimum -Maximum -Average"
   ]
  },
  {
   "cell_type": "code",
   "execution_count": 29,
   "metadata": {
    "dotnet_interactive": {
     "language": "mermaid"
    },
    "polyglot_notebook": {
     "kernelName": "mermaid"
    }
   },
   "outputs": [
    {
     "data": {
      "text/html": [
       "<div class=\"mermaidMarkdownContainer\" style=\"background-color:white\">\r\n",
       "<link rel=\"stylesheet\" href=\"https://cdnjs.cloudflare.com/ajax/libs/font-awesome/6.2.0/css/all.min.css\">\r\n",
       "<div id=\"a3b06eb9617f4d7b96816eedad9da904\"></div>\r\n",
       "<script type=\"module\">\r\n",
       "\r\n",
       "            import mermaid from 'https://cdn.jsdelivr.net/npm/mermaid@10.6.1/dist/mermaid.esm.min.mjs';\r\n",
       "            let renderTarget = document.getElementById('a3b06eb9617f4d7b96816eedad9da904');\r\n",
       "            try {\r\n",
       "                const {svg, bindFunctions} = await mermaid.mermaidAPI.render( \r\n",
       "                    'mermaid_a3b06eb9617f4d7b96816eedad9da904', \r\n",
       "                    `---\r\n",
       "title: GitHub Flow diagram with Mermaid.js\r\n",
       "---\r\n",
       "%%{init: {'gitGraph': {'showCommitLabel': false}} }%%\r\n",
       "    gitGraph TB:\r\n",
       "       commit\r\n",
       "       commit tag: \"v1.0.0\"\r\n",
       "       branch dev\r\n",
       "       commit\r\n",
       "       commit\r\n",
       "       checkout main\r\n",
       "       merge dev tag: \"v1.1.0\"`);\r\n",
       "                renderTarget.innerHTML = svg;\r\n",
       "                bindFunctions?.(renderTarget);\r\n",
       "            }\r\n",
       "            catch (error) {\r\n",
       "                console.log(error);\r\n",
       "            }\r\n",
       "</script>\r\n",
       "</div>\r\n"
      ]
     },
     "metadata": {},
     "output_type": "display_data"
    }
   ],
   "source": [
    "---\n",
    "title: GitHub Flow diagram with Mermaid.js\n",
    "---\n",
    "%%{init: {'gitGraph': {'showCommitLabel': false}} }%%\n",
    "    gitGraph TB:\n",
    "       commit\n",
    "       commit tag: \"v1.0.0\"\n",
    "       branch dev\n",
    "       commit\n",
    "       commit\n",
    "       checkout main\n",
    "       merge dev tag: \"v1.1.0\""
   ]
  },
  {
   "cell_type": "markdown",
   "metadata": {},
   "source": [
    "### <a id='toc3_2_'></a>[Single cell with multiple languages within it!](#toc0_)\n",
    "A single code cell with code pieces written in three (3) different languages 😎"
   ]
  },
  {
   "cell_type": "code",
   "execution_count": 5,
   "metadata": {
    "dotnet_interactive": {
     "language": "csharp"
    },
    "polyglot_notebook": {
     "kernelName": "csharp"
    }
   },
   "outputs": [
    {
     "name": "stdout",
     "output_type": "stream",
     "text": [
      "From C#: The first US independence day date: Thursday, July 4, 1776\n",
      "\n",
      "\u001b[93mVERBOSE: From PowerShell: The timespan since the US independence:\u001b[0m\n",
      "\n",
      "\u001b[32;1mDays              : \u001b[0m90430\n",
      "\u001b[32;1mHours             : \u001b[0m20\n",
      "\u001b[32;1mMinutes           : \u001b[0m58\n",
      "\u001b[32;1mSeconds           : \u001b[0m5\n",
      "\u001b[32;1mMilliseconds      : \u001b[0m88\n",
      "\u001b[32;1mTicks             : \u001b[0m78132274850883173\n",
      "\u001b[32;1mTotalDays         : \u001b[0m90430.8736700037\n",
      "\u001b[32;1mTotalHours        : \u001b[0m2170340.96808009\n",
      "\u001b[32;1mTotalMinutes      : \u001b[0m130220458.084805\n",
      "\u001b[32;1mTotalSeconds      : \u001b[0m7813227485.08832\n",
      "\u001b[32;1mTotalMilliseconds : \u001b[0m7813227485088.32\n",
      "\n"
     ]
    },
    {
     "data": {
      "text/plain": [
       "And, some math in JS\n",
       "Circumference of my dubs: '62.83' inches"
      ]
     },
     "metadata": {},
     "output_type": "display_data"
    }
   ],
   "source": [
    "// find out what day of the week the \"first\" 4th of July was (US independence day)\n",
    "Console.WriteLine(\"From C#: The first US independence day date: \" + DateTime.Parse(\"04 Jul 1776\").ToLongDateString() + \"\\n\");\n",
    "\n",
    "#!pwsh\n",
    "## in PowerShell, find out how long it's been since the US independence\n",
    "Write-Verbose -Verbose \"From PowerShell: The timespan since the US independence:\"\n",
    "New-TimeSpan -Start \"04 Jul 1776\"\n",
    "\n",
    "#!js\n",
    "var myDubsDiameter = 20; // 20\" diameter\n",
    "console.log(`And, some math in JS\\nCircumference of my dubs: '${(2 * (myDubsDiameter / 2) * Math.PI).toFixed(2)}' inches`);"
   ]
  },
  {
   "cell_type": "markdown",
   "metadata": {},
   "source": [
    "## <a id='toc4_'></a>[Other Install Things](#toc0_)\n",
    "Some other things for installing prerequisites for authoring Polyglot notebooks in VS Code, particularly via the [WinGet](https://github.com/microsoft/winget-cli) tool for Windows package management.\n",
    "\n",
    "This:\n",
    "- Downloads the components/packages for the WinGet tool\n",
    "- Installs said packages, making WinGet available on the given Windows system\n",
    "- Installs the .NET SDK and Microsoft Visual Studio Code"
   ]
  },
  {
   "cell_type": "code",
   "execution_count": null,
   "metadata": {
    "dotnet_interactive": {
     "language": "pwsh"
    },
    "polyglot_notebook": {
     "kernelName": "pwsh"
    }
   },
   "outputs": [],
   "source": [
    "#region install winget client\n",
    "## from https://learn.microsoft.com/en-us/windows/package-manager/winget/#install-winget-on-windows-sandbox; Add-AppxPackage runs in PowerShell 5 (Win PS)\n",
    "$progressPreference = \"SilentlyContinue\"\n",
    "Write-Information \"Downloading WinGet and its dependencies...\"\n",
    "Invoke-WebRequest -Uri https://aka.ms/getwinget -OutFile Microsoft.DesktopAppInstaller_8wekyb3d8bbwe.msixbundle\n",
    "Invoke-WebRequest -Uri https://aka.ms/Microsoft.VCLibs.x64.14.00.Desktop.appx -OutFile Microsoft.VCLibs.x64.14.00.Desktop.appx\n",
    "Invoke-WebRequest -Uri https://github.com/microsoft/microsoft-ui-xaml/releases/download/v2.7.3/Microsoft.UI.Xaml.2.7.x64.appx -OutFile Microsoft.UI.Xaml.2.7.x64.appx\n",
    "Write-Information \"Installing WinGet and its dependencies...\"\n",
    "Write-Output Microsoft.VCLibs.x64.14.00.Desktop.appx Microsoft.UI.Xaml.2.7.x64.appx Microsoft.DesktopAppInstaller_8wekyb3d8bbwe.msixbundle |\n",
    "    Add-AppxPackage\n",
    "#endregion install winget client\n",
    "\n",
    "#region install .NET SDK, VS Code\n",
    "## using .NET SDK v8 (current atm); check for current when you're installing! (can check via 'winget search Microsoft.DotNet.SDK')\n",
    "Write-Information \"Installing .NET SDK and VS Code\"\n",
    "winget install Microsoft.DotNet.SDK.8, Microsoft.VisualStudioCode\n",
    "#endregion install .NET SDK, VS Code\n",
    "\n",
    "## and, install the VS Code extension as outlined above"
   ]
  },
  {
   "cell_type": "markdown",
   "metadata": {},
   "source": [
    "## Wrap-up\n",
    "Polyglot notebooks make it easy to get going with Jupyter in VS Code, and has some great features. For your next use case, Polyglot it!\n",
    "\n",
    "## <a id='toc5_'></a>[Further Reading](#toc0_)\n",
    "Some references and further information about Polyglot notebooks:\n",
    "- [Polyglot Notebooks in VS Code](https://code.visualstudio.com/docs/languages/polyglot) info in the VS Code docs, including goodness like:\n",
    "    - [Magic Commands](https://github.com/dotnet/interactive/blob/main/docs/magic-commands.md) info about the Magic commands available\n",
    "    - [Working with NuGet packages](https://github.com/dotnet/interactive/blob/main/docs/nuget-overview.md) other ways to install/manage packages in notebooks\n",
    "    - [Variable sharing](https://github.com/dotnet/interactive/blob/main/docs/variable-sharing.md) sharing variables between kernels and the likes\n",
    "- [Polyglot extension](https://marketplace.visualstudio.com/items?itemName=ms-dotnettools.dotnet-interactive-vscode) info in the Microsoft VS Code Marketplace\n",
    "- [.NET Interactive](https://github.com/dotnet/interactive) GitHub repo\n",
    "- [WinGet](https://learn.microsoft.com/en-us/windows/package-manager/winget/) for application install/management, at Microsoft Learn docs\n",
    "- [./JupyterLabAndNotebooks-GettingStarted.ipynb](./JupyterLabAndNotebooks-GettingStarted.ipynb) for the \"old way\" for Jupyter Notebooks in VS Code"
   ]
  }
 ],
 "metadata": {
  "kernelspec": {
   "display_name": ".NET (C#)",
   "language": "C#",
   "name": ".net-csharp"
  },
  "language_info": {
   "name": "polyglot-notebook"
  },
  "polyglot_notebook": {
   "kernelInfo": {
    "defaultKernelName": "csharp",
    "items": [
     {
      "aliases": [],
      "name": "csharp"
     }
    ]
   }
  }
 },
 "nbformat": 4,
 "nbformat_minor": 2
}
